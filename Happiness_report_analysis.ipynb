{
  "nbformat": 4,
  "nbformat_minor": 0,
  "metadata": {
    "colab": {
      "name": "Happiness report analysis.ipynb",
      "provenance": [],
      "toc_visible": true,
      "include_colab_link": true
    },
    "kernelspec": {
      "name": "python3",
      "display_name": "Python 3",
      "language": "python"
    }
  },
  "cells": [
    {
      "cell_type": "markdown",
      "metadata": {
        "id": "view-in-github",
        "colab_type": "text"
      },
      "source": [
        "<a href=\"https://colab.research.google.com/github/Noha-Magdy/world-happiness-report-analysis/blob/main/Happiness_report_analysis.ipynb\" target=\"_parent\"><img src=\"https://colab.research.google.com/assets/colab-badge.svg\" alt=\"Open In Colab\"/></a>"
      ]
    },
    {
      "cell_type": "markdown",
      "metadata": {
        "id": "QZWKqeWHpgXA"
      },
      "source": [
        "# World Happiness Report Analysis \n",
        "This project do data analysis techniques for world happiness report to discover the factors that have the highest contribution in the happiness level for each country. In addition to analyzing the effect of COVID19 in the happiness level\n",
        "\n",
        "\n",
        "Analysis will be done on 2018 report and will be compared with 2020 report to see if COVID19 affected the happiness level\n",
        "\n",
        "### Done by: \n",
        "\n",
        "\n",
        "*   Adel Emad - 1610509\n",
        "*   Mohannad Ehab - 1610563\n",
        "*   Noha Magdy - 1610126\n",
        " \n",
        "\n",
        "\n",
        "\n"
      ]
    },
    {
      "cell_type": "markdown",
      "metadata": {
        "id": "FMFUmmXIp-PI"
      },
      "source": [
        "### Needed libraries "
      ]
    },
    {
      "cell_type": "code",
      "metadata": {
        "colab": {
          "base_uri": "https://localhost:8080/",
          "height": 17
        },
        "id": "KsklQQgppI_A",
        "outputId": "00d45a99-148c-4476-e0b4-07a0c3baba1a"
      },
      "source": [
        "import pandas as pd \n",
        "import numpy as np \n",
        "import seaborn as sns\n",
        "import matplotlib.pyplot as plt \n",
        "import pandas as pd\n",
        "from plotly.offline import plot, iplot, init_notebook_mode\n",
        "init_notebook_mode(connected=True)\n",
        "import plotly.express as px\n",
        "from sklearn.linear_model import LinearRegression\n",
        "from sklearn.model_selection import train_test_split \n",
        "from sklearn import metrics\n",
        "from sklearn.decomposition import PCA\n",
        "from pandas.io.json import json_normalize\n",
        "import json\n"
      ],
      "execution_count": null,
      "outputs": [
        {
          "output_type": "display_data",
          "data": {
            "text/html": [
              "        <script type=\"text/javascript\">\n",
              "        window.PlotlyConfig = {MathJaxConfig: 'local'};\n",
              "        if (window.MathJax) {MathJax.Hub.Config({SVG: {font: \"STIX-Web\"}});}\n",
              "        if (typeof require !== 'undefined') {\n",
              "        require.undef(\"plotly\");\n",
              "        requirejs.config({\n",
              "            paths: {\n",
              "                'plotly': ['https://cdn.plot.ly/plotly-latest.min']\n",
              "            }\n",
              "        });\n",
              "        require(['plotly'], function(Plotly) {\n",
              "            window._Plotly = Plotly;\n",
              "        });\n",
              "        }\n",
              "        </script>\n",
              "        "
            ]
          },
          "metadata": {
            "tags": []
          }
        }
      ]
    },
    {
      "cell_type": "markdown",
      "metadata": {
        "id": "O05hDC3UqCob"
      },
      "source": [
        "## Data loading "
      ]
    },
    {
      "cell_type": "markdown",
      "metadata": {
        "id": "eheN8IYUpdj4"
      },
      "source": [
        "### Happiness report data"
      ]
    },
    {
      "cell_type": "code",
      "metadata": {
        "colab": {
          "base_uri": "https://localhost:8080/",
          "height": 306
        },
        "id": "_wWKQxn0nvjV",
        "outputId": "d0b0c69c-359c-4fcd-92d4-f9df25d017a3"
      },
      "source": [
        "data15=pd.read_csv(\"2015.csv\")\n",
        "data15.head(5)"
      ],
      "execution_count": null,
      "outputs": [
        {
          "output_type": "execute_result",
          "data": {
            "text/html": [
              "<div>\n",
              "<style scoped>\n",
              "    .dataframe tbody tr th:only-of-type {\n",
              "        vertical-align: middle;\n",
              "    }\n",
              "\n",
              "    .dataframe tbody tr th {\n",
              "        vertical-align: top;\n",
              "    }\n",
              "\n",
              "    .dataframe thead th {\n",
              "        text-align: right;\n",
              "    }\n",
              "</style>\n",
              "<table border=\"1\" class=\"dataframe\">\n",
              "  <thead>\n",
              "    <tr style=\"text-align: right;\">\n",
              "      <th></th>\n",
              "      <th>Country</th>\n",
              "      <th>Region</th>\n",
              "      <th>Happiness Rank</th>\n",
              "      <th>Happiness Score</th>\n",
              "      <th>Standard Error</th>\n",
              "      <th>Economy (GDP per Capita)</th>\n",
              "      <th>Family</th>\n",
              "      <th>Health (Life Expectancy)</th>\n",
              "      <th>Freedom</th>\n",
              "      <th>Trust (Government Corruption)</th>\n",
              "      <th>Generosity</th>\n",
              "      <th>Dystopia Residual</th>\n",
              "    </tr>\n",
              "  </thead>\n",
              "  <tbody>\n",
              "    <tr>\n",
              "      <th>0</th>\n",
              "      <td>Switzerland</td>\n",
              "      <td>Western Europe</td>\n",
              "      <td>1</td>\n",
              "      <td>7.587</td>\n",
              "      <td>0.03411</td>\n",
              "      <td>1.39651</td>\n",
              "      <td>1.34951</td>\n",
              "      <td>0.94143</td>\n",
              "      <td>0.66557</td>\n",
              "      <td>0.41978</td>\n",
              "      <td>0.29678</td>\n",
              "      <td>2.51738</td>\n",
              "    </tr>\n",
              "    <tr>\n",
              "      <th>1</th>\n",
              "      <td>Iceland</td>\n",
              "      <td>Western Europe</td>\n",
              "      <td>2</td>\n",
              "      <td>7.561</td>\n",
              "      <td>0.04884</td>\n",
              "      <td>1.30232</td>\n",
              "      <td>1.40223</td>\n",
              "      <td>0.94784</td>\n",
              "      <td>0.62877</td>\n",
              "      <td>0.14145</td>\n",
              "      <td>0.43630</td>\n",
              "      <td>2.70201</td>\n",
              "    </tr>\n",
              "    <tr>\n",
              "      <th>2</th>\n",
              "      <td>Denmark</td>\n",
              "      <td>Western Europe</td>\n",
              "      <td>3</td>\n",
              "      <td>7.527</td>\n",
              "      <td>0.03328</td>\n",
              "      <td>1.32548</td>\n",
              "      <td>1.36058</td>\n",
              "      <td>0.87464</td>\n",
              "      <td>0.64938</td>\n",
              "      <td>0.48357</td>\n",
              "      <td>0.34139</td>\n",
              "      <td>2.49204</td>\n",
              "    </tr>\n",
              "    <tr>\n",
              "      <th>3</th>\n",
              "      <td>Norway</td>\n",
              "      <td>Western Europe</td>\n",
              "      <td>4</td>\n",
              "      <td>7.522</td>\n",
              "      <td>0.03880</td>\n",
              "      <td>1.45900</td>\n",
              "      <td>1.33095</td>\n",
              "      <td>0.88521</td>\n",
              "      <td>0.66973</td>\n",
              "      <td>0.36503</td>\n",
              "      <td>0.34699</td>\n",
              "      <td>2.46531</td>\n",
              "    </tr>\n",
              "    <tr>\n",
              "      <th>4</th>\n",
              "      <td>Canada</td>\n",
              "      <td>North America</td>\n",
              "      <td>5</td>\n",
              "      <td>7.427</td>\n",
              "      <td>0.03553</td>\n",
              "      <td>1.32629</td>\n",
              "      <td>1.32261</td>\n",
              "      <td>0.90563</td>\n",
              "      <td>0.63297</td>\n",
              "      <td>0.32957</td>\n",
              "      <td>0.45811</td>\n",
              "      <td>2.45176</td>\n",
              "    </tr>\n",
              "  </tbody>\n",
              "</table>\n",
              "</div>"
            ],
            "text/plain": [
              "       Country          Region  ...  Generosity  Dystopia Residual\n",
              "0  Switzerland  Western Europe  ...     0.29678            2.51738\n",
              "1      Iceland  Western Europe  ...     0.43630            2.70201\n",
              "2      Denmark  Western Europe  ...     0.34139            2.49204\n",
              "3       Norway  Western Europe  ...     0.34699            2.46531\n",
              "4       Canada   North America  ...     0.45811            2.45176\n",
              "\n",
              "[5 rows x 12 columns]"
            ]
          },
          "metadata": {
            "tags": []
          },
          "execution_count": 2
        }
      ]
    },
    {
      "cell_type": "code",
      "metadata": {
        "colab": {
          "base_uri": "https://localhost:8080/",
          "height": 323
        },
        "id": "oHLm-h2WnvjY",
        "outputId": "bb1c3478-6d18-4928-af93-447ffd74fe84"
      },
      "source": [
        "data16=pd.read_csv(\"2016.csv\")\n",
        "data16.head(5)"
      ],
      "execution_count": null,
      "outputs": [
        {
          "output_type": "execute_result",
          "data": {
            "text/html": [
              "<div>\n",
              "<style scoped>\n",
              "    .dataframe tbody tr th:only-of-type {\n",
              "        vertical-align: middle;\n",
              "    }\n",
              "\n",
              "    .dataframe tbody tr th {\n",
              "        vertical-align: top;\n",
              "    }\n",
              "\n",
              "    .dataframe thead th {\n",
              "        text-align: right;\n",
              "    }\n",
              "</style>\n",
              "<table border=\"1\" class=\"dataframe\">\n",
              "  <thead>\n",
              "    <tr style=\"text-align: right;\">\n",
              "      <th></th>\n",
              "      <th>Country</th>\n",
              "      <th>Region</th>\n",
              "      <th>Happiness Rank</th>\n",
              "      <th>Happiness Score</th>\n",
              "      <th>Lower Confidence Interval</th>\n",
              "      <th>Upper Confidence Interval</th>\n",
              "      <th>Economy (GDP per Capita)</th>\n",
              "      <th>Family</th>\n",
              "      <th>Health (Life Expectancy)</th>\n",
              "      <th>Freedom</th>\n",
              "      <th>Trust (Government Corruption)</th>\n",
              "      <th>Generosity</th>\n",
              "      <th>Dystopia Residual</th>\n",
              "    </tr>\n",
              "  </thead>\n",
              "  <tbody>\n",
              "    <tr>\n",
              "      <th>0</th>\n",
              "      <td>Denmark</td>\n",
              "      <td>Western Europe</td>\n",
              "      <td>1</td>\n",
              "      <td>7.526</td>\n",
              "      <td>7.460</td>\n",
              "      <td>7.592</td>\n",
              "      <td>1.44178</td>\n",
              "      <td>1.16374</td>\n",
              "      <td>0.79504</td>\n",
              "      <td>0.57941</td>\n",
              "      <td>0.44453</td>\n",
              "      <td>0.36171</td>\n",
              "      <td>2.73939</td>\n",
              "    </tr>\n",
              "    <tr>\n",
              "      <th>1</th>\n",
              "      <td>Switzerland</td>\n",
              "      <td>Western Europe</td>\n",
              "      <td>2</td>\n",
              "      <td>7.509</td>\n",
              "      <td>7.428</td>\n",
              "      <td>7.590</td>\n",
              "      <td>1.52733</td>\n",
              "      <td>1.14524</td>\n",
              "      <td>0.86303</td>\n",
              "      <td>0.58557</td>\n",
              "      <td>0.41203</td>\n",
              "      <td>0.28083</td>\n",
              "      <td>2.69463</td>\n",
              "    </tr>\n",
              "    <tr>\n",
              "      <th>2</th>\n",
              "      <td>Iceland</td>\n",
              "      <td>Western Europe</td>\n",
              "      <td>3</td>\n",
              "      <td>7.501</td>\n",
              "      <td>7.333</td>\n",
              "      <td>7.669</td>\n",
              "      <td>1.42666</td>\n",
              "      <td>1.18326</td>\n",
              "      <td>0.86733</td>\n",
              "      <td>0.56624</td>\n",
              "      <td>0.14975</td>\n",
              "      <td>0.47678</td>\n",
              "      <td>2.83137</td>\n",
              "    </tr>\n",
              "    <tr>\n",
              "      <th>3</th>\n",
              "      <td>Norway</td>\n",
              "      <td>Western Europe</td>\n",
              "      <td>4</td>\n",
              "      <td>7.498</td>\n",
              "      <td>7.421</td>\n",
              "      <td>7.575</td>\n",
              "      <td>1.57744</td>\n",
              "      <td>1.12690</td>\n",
              "      <td>0.79579</td>\n",
              "      <td>0.59609</td>\n",
              "      <td>0.35776</td>\n",
              "      <td>0.37895</td>\n",
              "      <td>2.66465</td>\n",
              "    </tr>\n",
              "    <tr>\n",
              "      <th>4</th>\n",
              "      <td>Finland</td>\n",
              "      <td>Western Europe</td>\n",
              "      <td>5</td>\n",
              "      <td>7.413</td>\n",
              "      <td>7.351</td>\n",
              "      <td>7.475</td>\n",
              "      <td>1.40598</td>\n",
              "      <td>1.13464</td>\n",
              "      <td>0.81091</td>\n",
              "      <td>0.57104</td>\n",
              "      <td>0.41004</td>\n",
              "      <td>0.25492</td>\n",
              "      <td>2.82596</td>\n",
              "    </tr>\n",
              "  </tbody>\n",
              "</table>\n",
              "</div>"
            ],
            "text/plain": [
              "       Country          Region  ...  Generosity  Dystopia Residual\n",
              "0      Denmark  Western Europe  ...     0.36171            2.73939\n",
              "1  Switzerland  Western Europe  ...     0.28083            2.69463\n",
              "2      Iceland  Western Europe  ...     0.47678            2.83137\n",
              "3       Norway  Western Europe  ...     0.37895            2.66465\n",
              "4      Finland  Western Europe  ...     0.25492            2.82596\n",
              "\n",
              "[5 rows x 13 columns]"
            ]
          },
          "metadata": {
            "tags": []
          },
          "execution_count": 3
        }
      ]
    },
    {
      "cell_type": "code",
      "metadata": {
        "colab": {
          "base_uri": "https://localhost:8080/",
          "height": 224
        },
        "id": "KrCkwsm0nvja",
        "outputId": "e277960e-f0e8-458b-fa71-f8e4c77104d1"
      },
      "source": [
        "data17=pd.read_csv(\"2017.csv\")\n",
        "data17.head(5)"
      ],
      "execution_count": null,
      "outputs": [
        {
          "output_type": "execute_result",
          "data": {
            "text/html": [
              "<div>\n",
              "<style scoped>\n",
              "    .dataframe tbody tr th:only-of-type {\n",
              "        vertical-align: middle;\n",
              "    }\n",
              "\n",
              "    .dataframe tbody tr th {\n",
              "        vertical-align: top;\n",
              "    }\n",
              "\n",
              "    .dataframe thead th {\n",
              "        text-align: right;\n",
              "    }\n",
              "</style>\n",
              "<table border=\"1\" class=\"dataframe\">\n",
              "  <thead>\n",
              "    <tr style=\"text-align: right;\">\n",
              "      <th></th>\n",
              "      <th>Country</th>\n",
              "      <th>Happiness.Rank</th>\n",
              "      <th>Happiness.Score</th>\n",
              "      <th>Whisker.high</th>\n",
              "      <th>Whisker.low</th>\n",
              "      <th>Economy..GDP.per.Capita.</th>\n",
              "      <th>Family</th>\n",
              "      <th>Health..Life.Expectancy.</th>\n",
              "      <th>Freedom</th>\n",
              "      <th>Generosity</th>\n",
              "      <th>Trust..Government.Corruption.</th>\n",
              "      <th>Dystopia.Residual</th>\n",
              "    </tr>\n",
              "  </thead>\n",
              "  <tbody>\n",
              "    <tr>\n",
              "      <th>0</th>\n",
              "      <td>Norway</td>\n",
              "      <td>1</td>\n",
              "      <td>7.537</td>\n",
              "      <td>7.594445</td>\n",
              "      <td>7.479556</td>\n",
              "      <td>1.616463</td>\n",
              "      <td>1.533524</td>\n",
              "      <td>0.796667</td>\n",
              "      <td>0.635423</td>\n",
              "      <td>0.362012</td>\n",
              "      <td>0.315964</td>\n",
              "      <td>2.277027</td>\n",
              "    </tr>\n",
              "    <tr>\n",
              "      <th>1</th>\n",
              "      <td>Denmark</td>\n",
              "      <td>2</td>\n",
              "      <td>7.522</td>\n",
              "      <td>7.581728</td>\n",
              "      <td>7.462272</td>\n",
              "      <td>1.482383</td>\n",
              "      <td>1.551122</td>\n",
              "      <td>0.792566</td>\n",
              "      <td>0.626007</td>\n",
              "      <td>0.355280</td>\n",
              "      <td>0.400770</td>\n",
              "      <td>2.313707</td>\n",
              "    </tr>\n",
              "    <tr>\n",
              "      <th>2</th>\n",
              "      <td>Iceland</td>\n",
              "      <td>3</td>\n",
              "      <td>7.504</td>\n",
              "      <td>7.622030</td>\n",
              "      <td>7.385970</td>\n",
              "      <td>1.480633</td>\n",
              "      <td>1.610574</td>\n",
              "      <td>0.833552</td>\n",
              "      <td>0.627163</td>\n",
              "      <td>0.475540</td>\n",
              "      <td>0.153527</td>\n",
              "      <td>2.322715</td>\n",
              "    </tr>\n",
              "    <tr>\n",
              "      <th>3</th>\n",
              "      <td>Switzerland</td>\n",
              "      <td>4</td>\n",
              "      <td>7.494</td>\n",
              "      <td>7.561772</td>\n",
              "      <td>7.426227</td>\n",
              "      <td>1.564980</td>\n",
              "      <td>1.516912</td>\n",
              "      <td>0.858131</td>\n",
              "      <td>0.620071</td>\n",
              "      <td>0.290549</td>\n",
              "      <td>0.367007</td>\n",
              "      <td>2.276716</td>\n",
              "    </tr>\n",
              "    <tr>\n",
              "      <th>4</th>\n",
              "      <td>Finland</td>\n",
              "      <td>5</td>\n",
              "      <td>7.469</td>\n",
              "      <td>7.527542</td>\n",
              "      <td>7.410458</td>\n",
              "      <td>1.443572</td>\n",
              "      <td>1.540247</td>\n",
              "      <td>0.809158</td>\n",
              "      <td>0.617951</td>\n",
              "      <td>0.245483</td>\n",
              "      <td>0.382612</td>\n",
              "      <td>2.430182</td>\n",
              "    </tr>\n",
              "  </tbody>\n",
              "</table>\n",
              "</div>"
            ],
            "text/plain": [
              "       Country  ...  Dystopia.Residual\n",
              "0       Norway  ...           2.277027\n",
              "1      Denmark  ...           2.313707\n",
              "2      Iceland  ...           2.322715\n",
              "3  Switzerland  ...           2.276716\n",
              "4      Finland  ...           2.430182\n",
              "\n",
              "[5 rows x 12 columns]"
            ]
          },
          "metadata": {
            "tags": []
          },
          "execution_count": 4
        }
      ]
    },
    {
      "cell_type": "code",
      "metadata": {
        "colab": {
          "base_uri": "https://localhost:8080/",
          "height": 221
        },
        "id": "Q3to1VNyqITR",
        "outputId": "9c4a0846-1f3b-4b93-8f1f-3ba585f326d6"
      },
      "source": [
        "data18 = pd.read_csv(\"2018.csv\")\n",
        "data18.head(5)\n"
      ],
      "execution_count": null,
      "outputs": [
        {
          "output_type": "execute_result",
          "data": {
            "text/html": [
              "<div>\n",
              "<style scoped>\n",
              "    .dataframe tbody tr th:only-of-type {\n",
              "        vertical-align: middle;\n",
              "    }\n",
              "\n",
              "    .dataframe tbody tr th {\n",
              "        vertical-align: top;\n",
              "    }\n",
              "\n",
              "    .dataframe thead th {\n",
              "        text-align: right;\n",
              "    }\n",
              "</style>\n",
              "<table border=\"1\" class=\"dataframe\">\n",
              "  <thead>\n",
              "    <tr style=\"text-align: right;\">\n",
              "      <th></th>\n",
              "      <th>Overall rank</th>\n",
              "      <th>Country or region</th>\n",
              "      <th>Score</th>\n",
              "      <th>GDP per capita</th>\n",
              "      <th>Social support</th>\n",
              "      <th>Healthy life expectancy</th>\n",
              "      <th>Freedom to make life choices</th>\n",
              "      <th>Generosity</th>\n",
              "      <th>Perceptions of corruption</th>\n",
              "    </tr>\n",
              "  </thead>\n",
              "  <tbody>\n",
              "    <tr>\n",
              "      <th>0</th>\n",
              "      <td>1</td>\n",
              "      <td>Finland</td>\n",
              "      <td>7.632</td>\n",
              "      <td>1.305</td>\n",
              "      <td>1.592</td>\n",
              "      <td>0.874</td>\n",
              "      <td>0.681</td>\n",
              "      <td>0.202</td>\n",
              "      <td>0.393</td>\n",
              "    </tr>\n",
              "    <tr>\n",
              "      <th>1</th>\n",
              "      <td>2</td>\n",
              "      <td>Norway</td>\n",
              "      <td>7.594</td>\n",
              "      <td>1.456</td>\n",
              "      <td>1.582</td>\n",
              "      <td>0.861</td>\n",
              "      <td>0.686</td>\n",
              "      <td>0.286</td>\n",
              "      <td>0.340</td>\n",
              "    </tr>\n",
              "    <tr>\n",
              "      <th>2</th>\n",
              "      <td>3</td>\n",
              "      <td>Denmark</td>\n",
              "      <td>7.555</td>\n",
              "      <td>1.351</td>\n",
              "      <td>1.590</td>\n",
              "      <td>0.868</td>\n",
              "      <td>0.683</td>\n",
              "      <td>0.284</td>\n",
              "      <td>0.408</td>\n",
              "    </tr>\n",
              "    <tr>\n",
              "      <th>3</th>\n",
              "      <td>4</td>\n",
              "      <td>Iceland</td>\n",
              "      <td>7.495</td>\n",
              "      <td>1.343</td>\n",
              "      <td>1.644</td>\n",
              "      <td>0.914</td>\n",
              "      <td>0.677</td>\n",
              "      <td>0.353</td>\n",
              "      <td>0.138</td>\n",
              "    </tr>\n",
              "    <tr>\n",
              "      <th>4</th>\n",
              "      <td>5</td>\n",
              "      <td>Switzerland</td>\n",
              "      <td>7.487</td>\n",
              "      <td>1.420</td>\n",
              "      <td>1.549</td>\n",
              "      <td>0.927</td>\n",
              "      <td>0.660</td>\n",
              "      <td>0.256</td>\n",
              "      <td>0.357</td>\n",
              "    </tr>\n",
              "  </tbody>\n",
              "</table>\n",
              "</div>"
            ],
            "text/plain": [
              "   Overall rank Country or region  ...  Generosity  Perceptions of corruption\n",
              "0             1           Finland  ...       0.202                      0.393\n",
              "1             2            Norway  ...       0.286                      0.340\n",
              "2             3           Denmark  ...       0.284                      0.408\n",
              "3             4           Iceland  ...       0.353                      0.138\n",
              "4             5       Switzerland  ...       0.256                      0.357\n",
              "\n",
              "[5 rows x 9 columns]"
            ]
          },
          "metadata": {
            "tags": []
          },
          "execution_count": 7
        }
      ]
    },
    {
      "cell_type": "code",
      "metadata": {
        "colab": {
          "base_uri": "https://localhost:8080/",
          "height": 221
        },
        "id": "zMzPjeLNnvjc",
        "outputId": "bd6a91f2-a2cb-48e6-ee35-10a7bc7bf772"
      },
      "source": [
        "data19 = pd.read_csv(\"2019.csv\")\n",
        "data19.head(5)"
      ],
      "execution_count": null,
      "outputs": [
        {
          "output_type": "execute_result",
          "data": {
            "text/html": [
              "<div>\n",
              "<style scoped>\n",
              "    .dataframe tbody tr th:only-of-type {\n",
              "        vertical-align: middle;\n",
              "    }\n",
              "\n",
              "    .dataframe tbody tr th {\n",
              "        vertical-align: top;\n",
              "    }\n",
              "\n",
              "    .dataframe thead th {\n",
              "        text-align: right;\n",
              "    }\n",
              "</style>\n",
              "<table border=\"1\" class=\"dataframe\">\n",
              "  <thead>\n",
              "    <tr style=\"text-align: right;\">\n",
              "      <th></th>\n",
              "      <th>Overall rank</th>\n",
              "      <th>Country or region</th>\n",
              "      <th>Score</th>\n",
              "      <th>GDP per capita</th>\n",
              "      <th>Social support</th>\n",
              "      <th>Healthy life expectancy</th>\n",
              "      <th>Freedom to make life choices</th>\n",
              "      <th>Generosity</th>\n",
              "      <th>Perceptions of corruption</th>\n",
              "    </tr>\n",
              "  </thead>\n",
              "  <tbody>\n",
              "    <tr>\n",
              "      <th>0</th>\n",
              "      <td>1</td>\n",
              "      <td>Finland</td>\n",
              "      <td>7.769</td>\n",
              "      <td>1.340</td>\n",
              "      <td>1.587</td>\n",
              "      <td>0.986</td>\n",
              "      <td>0.596</td>\n",
              "      <td>0.153</td>\n",
              "      <td>0.393</td>\n",
              "    </tr>\n",
              "    <tr>\n",
              "      <th>1</th>\n",
              "      <td>2</td>\n",
              "      <td>Denmark</td>\n",
              "      <td>7.600</td>\n",
              "      <td>1.383</td>\n",
              "      <td>1.573</td>\n",
              "      <td>0.996</td>\n",
              "      <td>0.592</td>\n",
              "      <td>0.252</td>\n",
              "      <td>0.410</td>\n",
              "    </tr>\n",
              "    <tr>\n",
              "      <th>2</th>\n",
              "      <td>3</td>\n",
              "      <td>Norway</td>\n",
              "      <td>7.554</td>\n",
              "      <td>1.488</td>\n",
              "      <td>1.582</td>\n",
              "      <td>1.028</td>\n",
              "      <td>0.603</td>\n",
              "      <td>0.271</td>\n",
              "      <td>0.341</td>\n",
              "    </tr>\n",
              "    <tr>\n",
              "      <th>3</th>\n",
              "      <td>4</td>\n",
              "      <td>Iceland</td>\n",
              "      <td>7.494</td>\n",
              "      <td>1.380</td>\n",
              "      <td>1.624</td>\n",
              "      <td>1.026</td>\n",
              "      <td>0.591</td>\n",
              "      <td>0.354</td>\n",
              "      <td>0.118</td>\n",
              "    </tr>\n",
              "    <tr>\n",
              "      <th>4</th>\n",
              "      <td>5</td>\n",
              "      <td>Netherlands</td>\n",
              "      <td>7.488</td>\n",
              "      <td>1.396</td>\n",
              "      <td>1.522</td>\n",
              "      <td>0.999</td>\n",
              "      <td>0.557</td>\n",
              "      <td>0.322</td>\n",
              "      <td>0.298</td>\n",
              "    </tr>\n",
              "  </tbody>\n",
              "</table>\n",
              "</div>"
            ],
            "text/plain": [
              "   Overall rank Country or region  ...  Generosity  Perceptions of corruption\n",
              "0             1           Finland  ...       0.153                      0.393\n",
              "1             2           Denmark  ...       0.252                      0.410\n",
              "2             3            Norway  ...       0.271                      0.341\n",
              "3             4           Iceland  ...       0.354                      0.118\n",
              "4             5       Netherlands  ...       0.322                      0.298\n",
              "\n",
              "[5 rows x 9 columns]"
            ]
          },
          "metadata": {
            "tags": []
          },
          "execution_count": 6
        }
      ]
    },
    {
      "cell_type": "code",
      "metadata": {
        "colab": {
          "base_uri": "https://localhost:8080/",
          "height": 394
        },
        "id": "C_566jjtsPb9",
        "outputId": "5a0a37ce-ead1-48b0-e788-6d55c265aa28"
      },
      "source": [
        "data20 = pd.read_csv(\"2020.csv\")\n",
        "data20.head(5)\n"
      ],
      "execution_count": null,
      "outputs": [
        {
          "output_type": "execute_result",
          "data": {
            "text/html": [
              "<div>\n",
              "<style scoped>\n",
              "    .dataframe tbody tr th:only-of-type {\n",
              "        vertical-align: middle;\n",
              "    }\n",
              "\n",
              "    .dataframe tbody tr th {\n",
              "        vertical-align: top;\n",
              "    }\n",
              "\n",
              "    .dataframe thead th {\n",
              "        text-align: right;\n",
              "    }\n",
              "</style>\n",
              "<table border=\"1\" class=\"dataframe\">\n",
              "  <thead>\n",
              "    <tr style=\"text-align: right;\">\n",
              "      <th></th>\n",
              "      <th>Country name</th>\n",
              "      <th>Regional indicator</th>\n",
              "      <th>Ladder score</th>\n",
              "      <th>Standard error of ladder score</th>\n",
              "      <th>upperwhisker</th>\n",
              "      <th>lowerwhisker</th>\n",
              "      <th>Logged GDP per capita</th>\n",
              "      <th>Social support</th>\n",
              "      <th>Healthy life expectancy</th>\n",
              "      <th>Freedom to make life choices</th>\n",
              "      <th>Generosity</th>\n",
              "      <th>Perceptions of corruption</th>\n",
              "      <th>Ladder score in Dystopia</th>\n",
              "      <th>Explained by: Log GDP per capita</th>\n",
              "      <th>Explained by: Social support</th>\n",
              "      <th>Explained by: Healthy life expectancy</th>\n",
              "      <th>Explained by: Freedom to make life choices</th>\n",
              "      <th>Explained by: Generosity</th>\n",
              "      <th>Explained by: Perceptions of corruption</th>\n",
              "      <th>Dystopia + residual</th>\n",
              "    </tr>\n",
              "  </thead>\n",
              "  <tbody>\n",
              "    <tr>\n",
              "      <th>0</th>\n",
              "      <td>Finland</td>\n",
              "      <td>Western Europe</td>\n",
              "      <td>7.8087</td>\n",
              "      <td>0.031156</td>\n",
              "      <td>7.869766</td>\n",
              "      <td>7.747634</td>\n",
              "      <td>10.639267</td>\n",
              "      <td>0.954330</td>\n",
              "      <td>71.900825</td>\n",
              "      <td>0.949172</td>\n",
              "      <td>-0.059482</td>\n",
              "      <td>0.195445</td>\n",
              "      <td>1.972317</td>\n",
              "      <td>1.285190</td>\n",
              "      <td>1.499526</td>\n",
              "      <td>0.961271</td>\n",
              "      <td>0.662317</td>\n",
              "      <td>0.159670</td>\n",
              "      <td>0.477857</td>\n",
              "      <td>2.762835</td>\n",
              "    </tr>\n",
              "    <tr>\n",
              "      <th>1</th>\n",
              "      <td>Denmark</td>\n",
              "      <td>Western Europe</td>\n",
              "      <td>7.6456</td>\n",
              "      <td>0.033492</td>\n",
              "      <td>7.711245</td>\n",
              "      <td>7.579955</td>\n",
              "      <td>10.774001</td>\n",
              "      <td>0.955991</td>\n",
              "      <td>72.402504</td>\n",
              "      <td>0.951444</td>\n",
              "      <td>0.066202</td>\n",
              "      <td>0.168489</td>\n",
              "      <td>1.972317</td>\n",
              "      <td>1.326949</td>\n",
              "      <td>1.503449</td>\n",
              "      <td>0.979333</td>\n",
              "      <td>0.665040</td>\n",
              "      <td>0.242793</td>\n",
              "      <td>0.495260</td>\n",
              "      <td>2.432741</td>\n",
              "    </tr>\n",
              "    <tr>\n",
              "      <th>2</th>\n",
              "      <td>Switzerland</td>\n",
              "      <td>Western Europe</td>\n",
              "      <td>7.5599</td>\n",
              "      <td>0.035014</td>\n",
              "      <td>7.628528</td>\n",
              "      <td>7.491272</td>\n",
              "      <td>10.979933</td>\n",
              "      <td>0.942847</td>\n",
              "      <td>74.102448</td>\n",
              "      <td>0.921337</td>\n",
              "      <td>0.105911</td>\n",
              "      <td>0.303728</td>\n",
              "      <td>1.972317</td>\n",
              "      <td>1.390774</td>\n",
              "      <td>1.472403</td>\n",
              "      <td>1.040533</td>\n",
              "      <td>0.628954</td>\n",
              "      <td>0.269056</td>\n",
              "      <td>0.407946</td>\n",
              "      <td>2.350267</td>\n",
              "    </tr>\n",
              "    <tr>\n",
              "      <th>3</th>\n",
              "      <td>Iceland</td>\n",
              "      <td>Western Europe</td>\n",
              "      <td>7.5045</td>\n",
              "      <td>0.059616</td>\n",
              "      <td>7.621347</td>\n",
              "      <td>7.387653</td>\n",
              "      <td>10.772559</td>\n",
              "      <td>0.974670</td>\n",
              "      <td>73.000000</td>\n",
              "      <td>0.948892</td>\n",
              "      <td>0.246944</td>\n",
              "      <td>0.711710</td>\n",
              "      <td>1.972317</td>\n",
              "      <td>1.326502</td>\n",
              "      <td>1.547567</td>\n",
              "      <td>1.000843</td>\n",
              "      <td>0.661981</td>\n",
              "      <td>0.362330</td>\n",
              "      <td>0.144541</td>\n",
              "      <td>2.460688</td>\n",
              "    </tr>\n",
              "    <tr>\n",
              "      <th>4</th>\n",
              "      <td>Norway</td>\n",
              "      <td>Western Europe</td>\n",
              "      <td>7.4880</td>\n",
              "      <td>0.034837</td>\n",
              "      <td>7.556281</td>\n",
              "      <td>7.419719</td>\n",
              "      <td>11.087804</td>\n",
              "      <td>0.952487</td>\n",
              "      <td>73.200783</td>\n",
              "      <td>0.955750</td>\n",
              "      <td>0.134533</td>\n",
              "      <td>0.263218</td>\n",
              "      <td>1.972317</td>\n",
              "      <td>1.424207</td>\n",
              "      <td>1.495173</td>\n",
              "      <td>1.008072</td>\n",
              "      <td>0.670201</td>\n",
              "      <td>0.287985</td>\n",
              "      <td>0.434101</td>\n",
              "      <td>2.168266</td>\n",
              "    </tr>\n",
              "  </tbody>\n",
              "</table>\n",
              "</div>"
            ],
            "text/plain": [
              "  Country name  ... Dystopia + residual\n",
              "0      Finland  ...            2.762835\n",
              "1      Denmark  ...            2.432741\n",
              "2  Switzerland  ...            2.350267\n",
              "3      Iceland  ...            2.460688\n",
              "4       Norway  ...            2.168266\n",
              "\n",
              "[5 rows x 20 columns]"
            ]
          },
          "metadata": {
            "tags": []
          },
          "execution_count": 8
        }
      ]
    },
    {
      "cell_type": "code",
      "metadata": {
        "colab": {
          "base_uri": "https://localhost:8080/"
        },
        "id": "ZGsIFSoayhy3",
        "outputId": "cc3a0291-a5a7-4642-a909-2b2fec2a19fd"
      },
      "source": [
        "data20.columns "
      ],
      "execution_count": null,
      "outputs": [
        {
          "output_type": "execute_result",
          "data": {
            "text/plain": [
              "Index(['Country name', 'Regional indicator', 'Ladder score',\n",
              "       'Standard error of ladder score', 'upperwhisker', 'lowerwhisker',\n",
              "       'Logged GDP per capita', 'Social support', 'Healthy life expectancy',\n",
              "       'Freedom to make life choices', 'Generosity',\n",
              "       'Perceptions of corruption', 'Ladder score in Dystopia',\n",
              "       'Explained by: Log GDP per capita', 'Explained by: Social support',\n",
              "       'Explained by: Healthy life expectancy',\n",
              "       'Explained by: Freedom to make life choices',\n",
              "       'Explained by: Generosity', 'Explained by: Perceptions of corruption',\n",
              "       'Dystopia + residual'],\n",
              "      dtype='object')"
            ]
          },
          "metadata": {
            "tags": []
          },
          "execution_count": 9
        }
      ]
    },
    {
      "cell_type": "markdown",
      "metadata": {
        "id": "-yzwNbs4pjXM"
      },
      "source": [
        "### COVID19 data"
      ]
    },
    {
      "cell_type": "code",
      "metadata": {
        "id": "Bwc80rXCpnSX"
      },
      "source": [
        "covid = pd.read_csv(\"covid-data.csv\")"
      ],
      "execution_count": 239,
      "outputs": []
    },
    {
      "cell_type": "code",
      "metadata": {
        "id": "Ipqu_p1KpnVm"
      },
      "source": [
        "Covid = covid.groupby(\"location\").sum()[\"new_cases\"]"
      ],
      "execution_count": 240,
      "outputs": []
    },
    {
      "cell_type": "code",
      "metadata": {
        "id": "OnGnPSp7ze5t"
      },
      "source": [
        ""
      ],
      "execution_count": 236,
      "outputs": []
    },
    {
      "cell_type": "code",
      "metadata": {
        "id": "unGSpkxzsTxA"
      },
      "source": [
        "covid_final = pd.DataFrame({\r\n",
        "    \"country\": Covid.index,\r\n",
        "    \"total_cases\": Covid})"
      ],
      "execution_count": 245,
      "outputs": []
    },
    {
      "cell_type": "code",
      "metadata": {
        "id": "s_XIB6qkt1zF",
        "colab": {
          "base_uri": "https://localhost:8080/"
        },
        "outputId": "820f1f6e-c729-444f-f646-b69babe8c683"
      },
      "source": [
        "covid_final[\"total_cases\"]"
      ],
      "execution_count": 246,
      "outputs": [
        {
          "output_type": "execute_result",
          "data": {
            "text/plain": [
              "location\n",
              "Afghanistan       53831.0\n",
              "Albania           66635.0\n",
              "Algeria          103381.0\n",
              "Andorra            8946.0\n",
              "Angola            18679.0\n",
              "                  ...    \n",
              "Vietnam            1536.0\n",
              "World          93026789.0\n",
              "Yemen              2111.0\n",
              "Zambia            34278.0\n",
              "Zimbabwe          26109.0\n",
              "Name: total_cases, Length: 192, dtype: float64"
            ]
          },
          "metadata": {
            "tags": []
          },
          "execution_count": 246
        }
      ]
    },
    {
      "cell_type": "markdown",
      "metadata": {
        "id": "6UI9qSIg0pW7"
      },
      "source": [
        "### **Data Preparation**"
      ]
    },
    {
      "cell_type": "code",
      "metadata": {
        "colab": {
          "base_uri": "https://localhost:8080/"
        },
        "id": "zgX4agUEoguA",
        "outputId": "bcc27fff-7140-4775-a1d1-5b91f6d9397b"
      },
      "source": [
        "data18.info()"
      ],
      "execution_count": null,
      "outputs": [
        {
          "output_type": "stream",
          "text": [
            "<class 'pandas.core.frame.DataFrame'>\n",
            "RangeIndex: 156 entries, 0 to 155\n",
            "Data columns (total 9 columns):\n",
            " #   Column                        Non-Null Count  Dtype  \n",
            "---  ------                        --------------  -----  \n",
            " 0   Overall rank                  156 non-null    int64  \n",
            " 1   Country or region             156 non-null    object \n",
            " 2   Score                         156 non-null    float64\n",
            " 3   GDP per capita                156 non-null    float64\n",
            " 4   Social support                156 non-null    float64\n",
            " 5   Healthy life expectancy       156 non-null    float64\n",
            " 6   Freedom to make life choices  156 non-null    float64\n",
            " 7   Generosity                    156 non-null    float64\n",
            " 8   Perceptions of corruption     155 non-null    float64\n",
            "dtypes: float64(7), int64(1), object(1)\n",
            "memory usage: 11.1+ KB\n"
          ],
          "name": "stdout"
        }
      ]
    },
    {
      "cell_type": "code",
      "metadata": {
        "id": "qAjSEW1Xog0i"
      },
      "source": [
        "data15=data15.fillna(value=data15.mean()) ## for last column was 155 not 156"
      ],
      "execution_count": null,
      "outputs": []
    },
    {
      "cell_type": "code",
      "metadata": {
        "id": "M9I9C8Inog4D"
      },
      "source": [
        "data16=data16.fillna(value=data16.mean()) "
      ],
      "execution_count": null,
      "outputs": []
    },
    {
      "cell_type": "code",
      "metadata": {
        "id": "L0aMk09bo6lj"
      },
      "source": [
        "data17=data17.fillna(value=data17.mean()) "
      ],
      "execution_count": null,
      "outputs": []
    },
    {
      "cell_type": "code",
      "metadata": {
        "id": "S1g0R1q9o6pP"
      },
      "source": [
        "data18=data18.fillna(value=data18.mean()) "
      ],
      "execution_count": null,
      "outputs": []
    },
    {
      "cell_type": "code",
      "metadata": {
        "id": "m59fBTAYo6s4"
      },
      "source": [
        "data19=data19.fillna(value=data19.mean()) "
      ],
      "execution_count": null,
      "outputs": []
    },
    {
      "cell_type": "code",
      "metadata": {
        "id": "heVAWBHfpMma"
      },
      "source": [
        "data20=data20.fillna(value=data20.mean()) "
      ],
      "execution_count": null,
      "outputs": []
    },
    {
      "cell_type": "code",
      "metadata": {
        "id": "T7T-nk8upVqW"
      },
      "source": [
        "# get the common columns between the data and remain them to be equal\r\n",
        "\r\n",
        "# 2015 data \r\n",
        "data15_new = data15[['Country',  'Happiness Score', 'Economy (GDP per Capita)', 'Family',\r\n",
        "       'Health (Life Expectancy)', 'Freedom', 'Trust (Government Corruption)',\r\n",
        "       'Generosity']]\r\n",
        "\r\n",
        "data16_new = data16[['Country',  'Happiness Score', 'Economy (GDP per Capita)', 'Family',\r\n",
        "       'Health (Life Expectancy)', 'Freedom', 'Trust (Government Corruption)',\r\n",
        "       'Generosity']]\r\n",
        "\r\n",
        "\r\n",
        "data17_new = data17[['Country', 'Happiness.Score', 'Economy..GDP.per.Capita.', 'Family',\r\n",
        "       'Health..Life.Expectancy.', 'Freedom', 'Generosity',\r\n",
        "       'Trust..Government.Corruption.']]\r\n",
        "\r\n",
        "data17_new = data17_new.rename(columns = { \r\n",
        "                                       'Happiness.Score': 'Happiness Score',\r\n",
        "                                        'Economy..GDP.per.Capita.': 'Economy (GDP per Capita)',\r\n",
        "                                        'Health..Life.Expectancy.': 'Health (Life Expectancy)',\r\n",
        "                                         'Trust..Government.Corruption.': 'Trust (Government Corruption)'})\r\n",
        "\r\n",
        "data17_new = data17_new [['Country',  'Happiness Score', 'Economy (GDP per Capita)', 'Family',\r\n",
        "       'Health (Life Expectancy)', 'Freedom', 'Trust (Government Corruption)',\r\n",
        "       'Generosity']]\r\n",
        "\r\n",
        "data18_new = data18[['Country or region', 'Score', 'GDP per capita',\r\n",
        "       'Social support', 'Healthy life expectancy',\r\n",
        "       'Freedom to make life choices', 'Generosity',\r\n",
        "       'Perceptions of corruption']]\r\n",
        "\r\n",
        "       \r\n",
        "data18_new= data18_new.rename(columns = {\r\n",
        "                                       'Score': 'Happiness Score',\r\n",
        "                                       'GDP per capita': 'Economy (GDP per Capita)',\r\n",
        "                                        'Healthy life expectancy': 'Health (Life Expectancy)',\r\n",
        "                                         'Perceptions of corruption': 'Trust (Government Corruption)',\r\n",
        "                                         'Country or region': 'Country',\r\n",
        "                                        'Freedom to make life choices':'Freedom',\r\n",
        "                                         'Social support': 'Family'})\r\n",
        "\r\n",
        "data18_new= data18_new[['Country',  'Happiness Score', 'Economy (GDP per Capita)', 'Family',\r\n",
        "       'Health (Life Expectancy)', 'Freedom', 'Trust (Government Corruption)',\r\n",
        "       'Generosity']]\r\n",
        "\r\n",
        "\r\n",
        "data19_new = data19[['Country or region', 'Score', 'GDP per capita',\r\n",
        "       'Social support', 'Healthy life expectancy',\r\n",
        "       'Freedom to make life choices', 'Generosity',\r\n",
        "       'Perceptions of corruption']]\r\n",
        "\r\n",
        "data19_new = data19_new.rename(columns = {\r\n",
        "                                       'Score': 'Happiness Score',\r\n",
        "                                       'GDP per capita': 'Economy (GDP per Capita)',\r\n",
        "                                        'Healthy life expectancy': 'Health (Life Expectancy)',\r\n",
        "                                         'Perceptions of corruption': 'Trust (Government Corruption)',\r\n",
        "                                         'Country or region': 'Country',\r\n",
        "                                        'Freedom to make life choices':'Freedom',\r\n",
        "                                         'Social support': 'Family'})\r\n",
        "\r\n",
        "\r\n",
        "data19_new= data19_new[['Country', 'Happiness Score', 'Economy (GDP per Capita)', 'Family',\r\n",
        "       'Health (Life Expectancy)', 'Freedom', 'Trust (Government Corruption)',\r\n",
        "       'Generosity']]\r\n",
        "\r\n",
        "\r\n",
        "data20_new = data20[['Country name','Explained by: Log GDP per capita', 'Explained by: Social support',\r\n",
        "       'Explained by: Healthy life expectancy',\r\n",
        "       'Explained by: Freedom to make life choices',\r\n",
        "       'Explained by: Generosity', 'Explained by: Perceptions of corruption']]\r\n",
        "\r\n",
        "\r\n",
        "data20_new = data20_new.rename(columns = {'Country name': 'Country',\r\n",
        "                                      'Explained by: Log GDP per capita': 'Economy (GDP per Capita)',\r\n",
        "                                        'Explained by: Healthy life expectancy': 'Health (Life Expectancy)',\r\n",
        "                                        'Explained by: Perceptions of corruption': 'Trust (Government Corruption)',\r\n",
        "                                        'Explained by: Freedom to make life choices':'Freedom',\r\n",
        "                                         'Explained by: Social support': 'Family',\r\n",
        "                                          'Explained by: Generosity': 'Generosity'})\r\n",
        "\r\n",
        "data20_new = data20_new[['Country', 'Economy (GDP per Capita)', 'Family',\r\n",
        "       'Health (Life Expectancy)', 'Freedom', 'Trust (Government Corruption)',\r\n",
        "       'Generosity']]\r\n",
        "\r\n",
        "\r\n"
      ],
      "execution_count": null,
      "outputs": []
    },
    {
      "cell_type": "code",
      "metadata": {
        "colab": {
          "base_uri": "https://localhost:8080/"
        },
        "id": "Lt-5R18B25yo",
        "outputId": "fbd4dd3d-1ad8-4d8f-bff1-ba3e00ebba12"
      },
      "source": [
        "# merge from 2015 to 2019\r\n",
        "\r\n",
        "frames = [data15_new, data16_new, data17_new, data18_new, data19_new]\r\n",
        "all_reports = pd.concat(frames)\r\n",
        "all_reports.shape"
      ],
      "execution_count": null,
      "outputs": [
        {
          "output_type": "execute_result",
          "data": {
            "text/plain": [
              "(782, 8)"
            ]
          },
          "metadata": {
            "tags": []
          },
          "execution_count": 132
        }
      ]
    },
    {
      "cell_type": "code",
      "metadata": {
        "colab": {
          "base_uri": "https://localhost:8080/"
        },
        "id": "g4snGf92vRIq",
        "outputId": "a366f8f4-fe38-496a-a209-5965e7db553e"
      },
      "source": [
        "all_reports.columns"
      ],
      "execution_count": null,
      "outputs": [
        {
          "output_type": "execute_result",
          "data": {
            "text/plain": [
              "Index(['Country', 'Happiness Score', 'Economy (GDP per Capita)', 'Family',\n",
              "       'Health (Life Expectancy)', 'Freedom', 'Trust (Government Corruption)',\n",
              "       'Generosity'],\n",
              "      dtype='object')"
            ]
          },
          "metadata": {
            "tags": []
          },
          "execution_count": 116
        }
      ]
    },
    {
      "cell_type": "markdown",
      "metadata": {
        "id": "WjsJWWOdpSaH"
      },
      "source": [
        "## Data Description  "
      ]
    },
    {
      "cell_type": "code",
      "metadata": {
        "colab": {
          "base_uri": "https://localhost:8080/",
          "height": 542
        },
        "id": "4HzdvDcx7tmJ",
        "outputId": "6f2556eb-56e1-4d55-cf86-25cb9446b929"
      },
      "source": [
        "# Visualization of happiness score\n",
        "\n",
        "fig = px.choropleth(happiness_report_18, locations='Country or region',\n",
        "                    locationmode='country names',\n",
        "                    color='Score',\n",
        "                    hover_name='Country or region',\n",
        "                    title='Happiness Index 2018',\n",
        "                    color_continuous_scale=px.colors.sequential.Plasma)\n",
        "fig.show()"
      ],
      "execution_count": null,
      "outputs": [
        {
          "output_type": "display_data",
          "data": {
            "text/html": [
              "<div>\n",
              "        \n",
              "        \n",
              "            <div id=\"0bffdcda-a79a-415d-b46d-b4013d778285\" class=\"plotly-graph-div\" style=\"height:525px; width:100%;\"></div>\n",
              "            <script type=\"text/javascript\">\n",
              "                require([\"plotly\"], function(Plotly) {\n",
              "                    window.PLOTLYENV=window.PLOTLYENV || {};\n",
              "                    \n",
              "                if (document.getElementById(\"0bffdcda-a79a-415d-b46d-b4013d778285\")) {\n",
              "                    Plotly.newPlot(\n",
              "                        '0bffdcda-a79a-415d-b46d-b4013d778285',\n",
              "                        [{\"coloraxis\": \"coloraxis\", \"geo\": \"geo\", \"hoverlabel\": {\"namelength\": 0}, \"hovertemplate\": \"<b>%{hovertext}</b><br><br>Country or region=%{location}<br>Score=%{z}\", \"hovertext\": [\"Finland\", \"Norway\", \"Denmark\", \"Iceland\", \"Switzerland\", \"Netherlands\", \"Canada\", \"New Zealand\", \"Sweden\", \"Australia\", \"United Kingdom\", \"Austria\", \"Costa Rica\", \"Ireland\", \"Germany\", \"Belgium\", \"Luxembourg\", \"United States\", \"Israel\", \"United Arab Emirates\", \"Czech Republic\", \"Malta\", \"France\", \"Mexico\", \"Chile\", \"Taiwan\", \"Panama\", \"Brazil\", \"Argentina\", \"Guatemala\", \"Uruguay\", \"Qatar\", \"Saudi Arabia\", \"Singapore\", \"Malaysia\", \"Spain\", \"Colombia\", \"Trinidad & Tobago\", \"Slovakia\", \"El Salvador\", \"Nicaragua\", \"Poland\", \"Bahrain\", \"Uzbekistan\", \"Kuwait\", \"Thailand\", \"Italy\", \"Ecuador\", \"Belize\", \"Lithuania\", \"Slovenia\", \"Romania\", \"Latvia\", \"Japan\", \"Mauritius\", \"Jamaica\", \"South Korea\", \"Northern Cyprus\", \"Russia\", \"Kazakhstan\", \"Cyprus\", \"Bolivia\", \"Estonia\", \"Paraguay\", \"Peru\", \"Kosovo\", \"Moldova\", \"Turkmenistan\", \"Hungary\", \"Libya\", \"Philippines\", \"Honduras\", \"Belarus\", \"Turkey\", \"Pakistan\", \"Hong Kong\", \"Portugal\", \"Serbia\", \"Greece\", \"Lebanon\", \"Montenegro\", \"Croatia\", \"Dominican Republic\", \"Algeria\", \"Morocco\", \"China\", \"Azerbaijan\", \"Tajikistan\", \"Macedonia\", \"Jordan\", \"Nigeria\", \"Kyrgyzstan\", \"Bosnia and Herzegovina\", \"Mongolia\", \"Vietnam\", \"Indonesia\", \"Bhutan\", \"Somalia\", \"Cameroon\", \"Bulgaria\", \"Nepal\", \"Venezuela\", \"Gabon\", \"Palestinian Territories\", \"South Africa\", \"Iran\", \"Ivory Coast\", \"Ghana\", \"Senegal\", \"Laos\", \"Tunisia\", \"Albania\", \"Sierra Leone\", \"Congo (Brazzaville)\", \"Bangladesh\", \"Sri Lanka\", \"Iraq\", \"Mali\", \"Namibia\", \"Cambodia\", \"Burkina Faso\", \"Egypt\", \"Mozambique\", \"Kenya\", \"Zambia\", \"Mauritania\", \"Ethiopia\", \"Georgia\", \"Armenia\", \"Myanmar\", \"Chad\", \"Congo (Kinshasa)\", \"India\", \"Niger\", \"Uganda\", \"Benin\", \"Sudan\", \"Ukraine\", \"Togo\", \"Guinea\", \"Lesotho\", \"Angola\", \"Madagascar\", \"Zimbabwe\", \"Afghanistan\", \"Botswana\", \"Malawi\", \"Haiti\", \"Liberia\", \"Syria\", \"Rwanda\", \"Yemen\", \"Tanzania\", \"South Sudan\", \"Central African Republic\", \"Burundi\"], \"locationmode\": \"country names\", \"locations\": [\"Finland\", \"Norway\", \"Denmark\", \"Iceland\", \"Switzerland\", \"Netherlands\", \"Canada\", \"New Zealand\", \"Sweden\", \"Australia\", \"United Kingdom\", \"Austria\", \"Costa Rica\", \"Ireland\", \"Germany\", \"Belgium\", \"Luxembourg\", \"United States\", \"Israel\", \"United Arab Emirates\", \"Czech Republic\", \"Malta\", \"France\", \"Mexico\", \"Chile\", \"Taiwan\", \"Panama\", \"Brazil\", \"Argentina\", \"Guatemala\", \"Uruguay\", \"Qatar\", \"Saudi Arabia\", \"Singapore\", \"Malaysia\", \"Spain\", \"Colombia\", \"Trinidad & Tobago\", \"Slovakia\", \"El Salvador\", \"Nicaragua\", \"Poland\", \"Bahrain\", \"Uzbekistan\", \"Kuwait\", \"Thailand\", \"Italy\", \"Ecuador\", \"Belize\", \"Lithuania\", \"Slovenia\", \"Romania\", \"Latvia\", \"Japan\", \"Mauritius\", \"Jamaica\", \"South Korea\", \"Northern Cyprus\", \"Russia\", \"Kazakhstan\", \"Cyprus\", \"Bolivia\", \"Estonia\", \"Paraguay\", \"Peru\", \"Kosovo\", \"Moldova\", \"Turkmenistan\", \"Hungary\", \"Libya\", \"Philippines\", \"Honduras\", \"Belarus\", \"Turkey\", \"Pakistan\", \"Hong Kong\", \"Portugal\", \"Serbia\", \"Greece\", \"Lebanon\", \"Montenegro\", \"Croatia\", \"Dominican Republic\", \"Algeria\", \"Morocco\", \"China\", \"Azerbaijan\", \"Tajikistan\", \"Macedonia\", \"Jordan\", \"Nigeria\", \"Kyrgyzstan\", \"Bosnia and Herzegovina\", \"Mongolia\", \"Vietnam\", \"Indonesia\", \"Bhutan\", \"Somalia\", \"Cameroon\", \"Bulgaria\", \"Nepal\", \"Venezuela\", \"Gabon\", \"Palestinian Territories\", \"South Africa\", \"Iran\", \"Ivory Coast\", \"Ghana\", \"Senegal\", \"Laos\", \"Tunisia\", \"Albania\", \"Sierra Leone\", \"Congo (Brazzaville)\", \"Bangladesh\", \"Sri Lanka\", \"Iraq\", \"Mali\", \"Namibia\", \"Cambodia\", \"Burkina Faso\", \"Egypt\", \"Mozambique\", \"Kenya\", \"Zambia\", \"Mauritania\", \"Ethiopia\", \"Georgia\", \"Armenia\", \"Myanmar\", \"Chad\", \"Congo (Kinshasa)\", \"India\", \"Niger\", \"Uganda\", \"Benin\", \"Sudan\", \"Ukraine\", \"Togo\", \"Guinea\", \"Lesotho\", \"Angola\", \"Madagascar\", \"Zimbabwe\", \"Afghanistan\", \"Botswana\", \"Malawi\", \"Haiti\", \"Liberia\", \"Syria\", \"Rwanda\", \"Yemen\", \"Tanzania\", \"South Sudan\", \"Central African Republic\", \"Burundi\"], \"name\": \"\", \"type\": \"choropleth\", \"z\": [7.632000000000001, 7.593999999999999, 7.555, 7.495, 7.487, 7.441, 7.327999999999999, 7.324, 7.314, 7.272, 7.19, 7.138999999999999, 7.072, 6.977, 6.965, 6.9270000000000005, 6.91, 6.886, 6.814, 6.774, 6.711, 6.627000000000001, 6.489, 6.4879999999999995, 6.476, 6.441, 6.43, 6.419, 6.388, 6.382000000000001, 6.379, 6.374, 6.371, 6.343, 6.322, 6.31, 6.26, 6.192, 6.172999999999999, 6.167000000000001, 6.141, 6.122999999999999, 6.105, 6.096, 6.082999999999999, 6.072, 6.0, 5.973, 5.956, 5.952000000000001, 5.9479999999999995, 5.945, 5.933, 5.915, 5.891, 5.89, 5.875, 5.835, 5.81, 5.79, 5.7620000000000005, 5.752000000000001, 5.739, 5.681, 5.662999999999999, 5.662000000000001, 5.64, 5.636, 5.62, 5.566, 5.524, 5.504, 5.483, 5.483, 5.472, 5.43, 5.41, 5.398, 5.358, 5.358, 5.347, 5.321000000000001, 5.3020000000000005, 5.295, 5.254, 5.246, 5.2010000000000005, 5.199, 5.185, 5.1610000000000005, 5.155, 5.131, 5.129, 5.125, 5.103, 5.093, 5.082, 4.982, 4.975, 4.933, 4.88, 4.806, 4.758, 4.743, 4.724, 4.707, 4.671, 4.657, 4.631, 4.623, 4.592, 4.586, 4.571000000000001, 4.559, 4.5, 4.471, 4.456, 4.447, 4.441, 4.433, 4.4239999999999995, 4.419, 4.417, 4.41, 4.377, 4.356, 4.35, 4.34, 4.321000000000001, 4.308, 4.301, 4.245, 4.19, 4.166, 4.1610000000000005, 4.141, 4.138999999999999, 4.103, 3.9989999999999997, 3.964, 3.8080000000000003, 3.795, 3.7739999999999996, 3.6919999999999997, 3.6319999999999997, 3.59, 3.5869999999999997, 3.582, 3.495, 3.4619999999999997, 3.408, 3.355, 3.303, 3.2539999999999996, 3.083, 2.905]}],\n",
              "                        {\"coloraxis\": {\"colorbar\": {\"title\": {\"text\": \"Score\"}}, \"colorscale\": [[0.0, \"#0d0887\"], [0.1111111111111111, \"#46039f\"], [0.2222222222222222, \"#7201a8\"], [0.3333333333333333, \"#9c179e\"], [0.4444444444444444, \"#bd3786\"], [0.5555555555555556, \"#d8576b\"], [0.6666666666666666, \"#ed7953\"], [0.7777777777777778, \"#fb9f3a\"], [0.8888888888888888, \"#fdca26\"], [1.0, \"#f0f921\"]]}, \"geo\": {\"center\": {}, \"domain\": {\"x\": [0.0, 1.0], \"y\": [0.0, 1.0]}}, \"legend\": {\"tracegroupgap\": 0}, \"template\": {\"data\": {\"bar\": [{\"error_x\": {\"color\": \"#2a3f5f\"}, \"error_y\": {\"color\": \"#2a3f5f\"}, \"marker\": {\"line\": {\"color\": \"#E5ECF6\", \"width\": 0.5}}, \"type\": \"bar\"}], \"barpolar\": [{\"marker\": {\"line\": {\"color\": \"#E5ECF6\", \"width\": 0.5}}, \"type\": \"barpolar\"}], \"carpet\": [{\"aaxis\": {\"endlinecolor\": \"#2a3f5f\", \"gridcolor\": \"white\", \"linecolor\": \"white\", \"minorgridcolor\": \"white\", \"startlinecolor\": \"#2a3f5f\"}, \"baxis\": {\"endlinecolor\": \"#2a3f5f\", \"gridcolor\": \"white\", \"linecolor\": \"white\", \"minorgridcolor\": \"white\", \"startlinecolor\": \"#2a3f5f\"}, \"type\": \"carpet\"}], \"choropleth\": [{\"colorbar\": {\"outlinewidth\": 0, \"ticks\": \"\"}, \"type\": \"choropleth\"}], \"contour\": [{\"colorbar\": {\"outlinewidth\": 0, \"ticks\": \"\"}, \"colorscale\": [[0.0, \"#0d0887\"], [0.1111111111111111, \"#46039f\"], [0.2222222222222222, \"#7201a8\"], [0.3333333333333333, \"#9c179e\"], [0.4444444444444444, \"#bd3786\"], [0.5555555555555556, \"#d8576b\"], [0.6666666666666666, \"#ed7953\"], [0.7777777777777778, \"#fb9f3a\"], [0.8888888888888888, \"#fdca26\"], [1.0, \"#f0f921\"]], \"type\": \"contour\"}], \"contourcarpet\": [{\"colorbar\": {\"outlinewidth\": 0, \"ticks\": \"\"}, \"type\": \"contourcarpet\"}], \"heatmap\": [{\"colorbar\": {\"outlinewidth\": 0, \"ticks\": \"\"}, \"colorscale\": [[0.0, \"#0d0887\"], [0.1111111111111111, \"#46039f\"], [0.2222222222222222, \"#7201a8\"], [0.3333333333333333, \"#9c179e\"], [0.4444444444444444, \"#bd3786\"], [0.5555555555555556, \"#d8576b\"], [0.6666666666666666, \"#ed7953\"], [0.7777777777777778, \"#fb9f3a\"], [0.8888888888888888, \"#fdca26\"], [1.0, \"#f0f921\"]], \"type\": \"heatmap\"}], \"heatmapgl\": [{\"colorbar\": {\"outlinewidth\": 0, \"ticks\": \"\"}, \"colorscale\": [[0.0, \"#0d0887\"], [0.1111111111111111, \"#46039f\"], [0.2222222222222222, \"#7201a8\"], [0.3333333333333333, \"#9c179e\"], [0.4444444444444444, \"#bd3786\"], [0.5555555555555556, \"#d8576b\"], [0.6666666666666666, \"#ed7953\"], [0.7777777777777778, \"#fb9f3a\"], [0.8888888888888888, \"#fdca26\"], [1.0, \"#f0f921\"]], \"type\": \"heatmapgl\"}], \"histogram\": [{\"marker\": {\"colorbar\": {\"outlinewidth\": 0, \"ticks\": \"\"}}, \"type\": \"histogram\"}], \"histogram2d\": [{\"colorbar\": {\"outlinewidth\": 0, \"ticks\": \"\"}, \"colorscale\": [[0.0, \"#0d0887\"], [0.1111111111111111, \"#46039f\"], [0.2222222222222222, \"#7201a8\"], [0.3333333333333333, \"#9c179e\"], [0.4444444444444444, \"#bd3786\"], [0.5555555555555556, \"#d8576b\"], [0.6666666666666666, \"#ed7953\"], [0.7777777777777778, \"#fb9f3a\"], [0.8888888888888888, \"#fdca26\"], [1.0, \"#f0f921\"]], \"type\": \"histogram2d\"}], \"histogram2dcontour\": [{\"colorbar\": {\"outlinewidth\": 0, \"ticks\": \"\"}, \"colorscale\": [[0.0, \"#0d0887\"], [0.1111111111111111, \"#46039f\"], [0.2222222222222222, \"#7201a8\"], [0.3333333333333333, \"#9c179e\"], [0.4444444444444444, \"#bd3786\"], [0.5555555555555556, \"#d8576b\"], [0.6666666666666666, \"#ed7953\"], [0.7777777777777778, \"#fb9f3a\"], [0.8888888888888888, \"#fdca26\"], [1.0, \"#f0f921\"]], \"type\": \"histogram2dcontour\"}], \"mesh3d\": [{\"colorbar\": {\"outlinewidth\": 0, \"ticks\": \"\"}, \"type\": \"mesh3d\"}], \"parcoords\": [{\"line\": {\"colorbar\": {\"outlinewidth\": 0, \"ticks\": \"\"}}, \"type\": \"parcoords\"}], \"pie\": [{\"automargin\": true, \"type\": \"pie\"}], \"scatter\": [{\"marker\": {\"colorbar\": {\"outlinewidth\": 0, \"ticks\": \"\"}}, \"type\": \"scatter\"}], \"scatter3d\": [{\"line\": {\"colorbar\": {\"outlinewidth\": 0, \"ticks\": \"\"}}, \"marker\": {\"colorbar\": {\"outlinewidth\": 0, \"ticks\": \"\"}}, \"type\": \"scatter3d\"}], \"scattercarpet\": [{\"marker\": {\"colorbar\": {\"outlinewidth\": 0, \"ticks\": \"\"}}, \"type\": \"scattercarpet\"}], \"scattergeo\": [{\"marker\": {\"colorbar\": {\"outlinewidth\": 0, \"ticks\": \"\"}}, \"type\": \"scattergeo\"}], \"scattergl\": [{\"marker\": {\"colorbar\": {\"outlinewidth\": 0, \"ticks\": \"\"}}, \"type\": \"scattergl\"}], \"scattermapbox\": [{\"marker\": {\"colorbar\": {\"outlinewidth\": 0, \"ticks\": \"\"}}, \"type\": \"scattermapbox\"}], \"scatterpolar\": [{\"marker\": {\"colorbar\": {\"outlinewidth\": 0, \"ticks\": \"\"}}, \"type\": \"scatterpolar\"}], \"scatterpolargl\": [{\"marker\": {\"colorbar\": {\"outlinewidth\": 0, \"ticks\": \"\"}}, \"type\": \"scatterpolargl\"}], \"scatterternary\": [{\"marker\": {\"colorbar\": {\"outlinewidth\": 0, \"ticks\": \"\"}}, \"type\": \"scatterternary\"}], \"surface\": [{\"colorbar\": {\"outlinewidth\": 0, \"ticks\": \"\"}, \"colorscale\": [[0.0, \"#0d0887\"], [0.1111111111111111, \"#46039f\"], [0.2222222222222222, \"#7201a8\"], [0.3333333333333333, \"#9c179e\"], [0.4444444444444444, \"#bd3786\"], [0.5555555555555556, \"#d8576b\"], [0.6666666666666666, \"#ed7953\"], [0.7777777777777778, \"#fb9f3a\"], [0.8888888888888888, \"#fdca26\"], [1.0, \"#f0f921\"]], \"type\": \"surface\"}], \"table\": [{\"cells\": {\"fill\": {\"color\": \"#EBF0F8\"}, \"line\": {\"color\": \"white\"}}, \"header\": {\"fill\": {\"color\": \"#C8D4E3\"}, \"line\": {\"color\": \"white\"}}, \"type\": \"table\"}]}, \"layout\": {\"annotationdefaults\": {\"arrowcolor\": \"#2a3f5f\", \"arrowhead\": 0, \"arrowwidth\": 1}, \"coloraxis\": {\"colorbar\": {\"outlinewidth\": 0, \"ticks\": \"\"}}, \"colorscale\": {\"diverging\": [[0, \"#8e0152\"], [0.1, \"#c51b7d\"], [0.2, \"#de77ae\"], [0.3, \"#f1b6da\"], [0.4, \"#fde0ef\"], [0.5, \"#f7f7f7\"], [0.6, \"#e6f5d0\"], [0.7, \"#b8e186\"], [0.8, \"#7fbc41\"], [0.9, \"#4d9221\"], [1, \"#276419\"]], \"sequential\": [[0.0, \"#0d0887\"], [0.1111111111111111, \"#46039f\"], [0.2222222222222222, \"#7201a8\"], [0.3333333333333333, \"#9c179e\"], [0.4444444444444444, \"#bd3786\"], [0.5555555555555556, \"#d8576b\"], [0.6666666666666666, \"#ed7953\"], [0.7777777777777778, \"#fb9f3a\"], [0.8888888888888888, \"#fdca26\"], [1.0, \"#f0f921\"]], \"sequentialminus\": [[0.0, \"#0d0887\"], [0.1111111111111111, \"#46039f\"], [0.2222222222222222, \"#7201a8\"], [0.3333333333333333, \"#9c179e\"], [0.4444444444444444, \"#bd3786\"], [0.5555555555555556, \"#d8576b\"], [0.6666666666666666, \"#ed7953\"], [0.7777777777777778, \"#fb9f3a\"], [0.8888888888888888, \"#fdca26\"], [1.0, \"#f0f921\"]]}, \"colorway\": [\"#636efa\", \"#EF553B\", \"#00cc96\", \"#ab63fa\", \"#FFA15A\", \"#19d3f3\", \"#FF6692\", \"#B6E880\", \"#FF97FF\", \"#FECB52\"], \"font\": {\"color\": \"#2a3f5f\"}, \"geo\": {\"bgcolor\": \"white\", \"lakecolor\": \"white\", \"landcolor\": \"#E5ECF6\", \"showlakes\": true, \"showland\": true, \"subunitcolor\": \"white\"}, \"hoverlabel\": {\"align\": \"left\"}, \"hovermode\": \"closest\", \"mapbox\": {\"style\": \"light\"}, \"paper_bgcolor\": \"white\", \"plot_bgcolor\": \"#E5ECF6\", \"polar\": {\"angularaxis\": {\"gridcolor\": \"white\", \"linecolor\": \"white\", \"ticks\": \"\"}, \"bgcolor\": \"#E5ECF6\", \"radialaxis\": {\"gridcolor\": \"white\", \"linecolor\": \"white\", \"ticks\": \"\"}}, \"scene\": {\"xaxis\": {\"backgroundcolor\": \"#E5ECF6\", \"gridcolor\": \"white\", \"gridwidth\": 2, \"linecolor\": \"white\", \"showbackground\": true, \"ticks\": \"\", \"zerolinecolor\": \"white\"}, \"yaxis\": {\"backgroundcolor\": \"#E5ECF6\", \"gridcolor\": \"white\", \"gridwidth\": 2, \"linecolor\": \"white\", \"showbackground\": true, \"ticks\": \"\", \"zerolinecolor\": \"white\"}, \"zaxis\": {\"backgroundcolor\": \"#E5ECF6\", \"gridcolor\": \"white\", \"gridwidth\": 2, \"linecolor\": \"white\", \"showbackground\": true, \"ticks\": \"\", \"zerolinecolor\": \"white\"}}, \"shapedefaults\": {\"line\": {\"color\": \"#2a3f5f\"}}, \"ternary\": {\"aaxis\": {\"gridcolor\": \"white\", \"linecolor\": \"white\", \"ticks\": \"\"}, \"baxis\": {\"gridcolor\": \"white\", \"linecolor\": \"white\", \"ticks\": \"\"}, \"bgcolor\": \"#E5ECF6\", \"caxis\": {\"gridcolor\": \"white\", \"linecolor\": \"white\", \"ticks\": \"\"}}, \"title\": {\"x\": 0.05}, \"xaxis\": {\"automargin\": true, \"gridcolor\": \"white\", \"linecolor\": \"white\", \"ticks\": \"\", \"title\": {\"standoff\": 15}, \"zerolinecolor\": \"white\", \"zerolinewidth\": 2}, \"yaxis\": {\"automargin\": true, \"gridcolor\": \"white\", \"linecolor\": \"white\", \"ticks\": \"\", \"title\": {\"standoff\": 15}, \"zerolinecolor\": \"white\", \"zerolinewidth\": 2}}}, \"title\": {\"text\": \"Happiness Index 2018\"}},\n",
              "                        {\"responsive\": true}\n",
              "                    ).then(function(){\n",
              "                            \n",
              "var gd = document.getElementById('0bffdcda-a79a-415d-b46d-b4013d778285');\n",
              "var x = new MutationObserver(function (mutations, observer) {{\n",
              "        var display = window.getComputedStyle(gd).display;\n",
              "        if (!display || display === 'none') {{\n",
              "            console.log([gd, 'removed!']);\n",
              "            Plotly.purge(gd);\n",
              "            observer.disconnect();\n",
              "        }}\n",
              "}});\n",
              "\n",
              "// Listen for the removal of the full notebook cells\n",
              "var notebookContainer = gd.closest('#notebook-container');\n",
              "if (notebookContainer) {{\n",
              "    x.observe(notebookContainer, {childList: true});\n",
              "}}\n",
              "\n",
              "// Listen for the clearing of the current output cell\n",
              "var outputEl = gd.closest('.output');\n",
              "if (outputEl) {{\n",
              "    x.observe(outputEl, {childList: true});\n",
              "}}\n",
              "\n",
              "                        })\n",
              "                };\n",
              "                });\n",
              "            </script>\n",
              "        </div>"
            ],
            "application/vnd.plotly.v1+json": {
              "data": [
                {
                  "hovertemplate": "<b>%{hovertext}</b><br><br>Country or region=%{location}<br>Score=%{z}",
                  "name": "",
                  "geo": "geo",
                  "hovertext": [
                    "Finland",
                    "Norway",
                    "Denmark",
                    "Iceland",
                    "Switzerland",
                    "Netherlands",
                    "Canada",
                    "New Zealand",
                    "Sweden",
                    "Australia",
                    "United Kingdom",
                    "Austria",
                    "Costa Rica",
                    "Ireland",
                    "Germany",
                    "Belgium",
                    "Luxembourg",
                    "United States",
                    "Israel",
                    "United Arab Emirates",
                    "Czech Republic",
                    "Malta",
                    "France",
                    "Mexico",
                    "Chile",
                    "Taiwan",
                    "Panama",
                    "Brazil",
                    "Argentina",
                    "Guatemala",
                    "Uruguay",
                    "Qatar",
                    "Saudi Arabia",
                    "Singapore",
                    "Malaysia",
                    "Spain",
                    "Colombia",
                    "Trinidad & Tobago",
                    "Slovakia",
                    "El Salvador",
                    "Nicaragua",
                    "Poland",
                    "Bahrain",
                    "Uzbekistan",
                    "Kuwait",
                    "Thailand",
                    "Italy",
                    "Ecuador",
                    "Belize",
                    "Lithuania",
                    "Slovenia",
                    "Romania",
                    "Latvia",
                    "Japan",
                    "Mauritius",
                    "Jamaica",
                    "South Korea",
                    "Northern Cyprus",
                    "Russia",
                    "Kazakhstan",
                    "Cyprus",
                    "Bolivia",
                    "Estonia",
                    "Paraguay",
                    "Peru",
                    "Kosovo",
                    "Moldova",
                    "Turkmenistan",
                    "Hungary",
                    "Libya",
                    "Philippines",
                    "Honduras",
                    "Belarus",
                    "Turkey",
                    "Pakistan",
                    "Hong Kong",
                    "Portugal",
                    "Serbia",
                    "Greece",
                    "Lebanon",
                    "Montenegro",
                    "Croatia",
                    "Dominican Republic",
                    "Algeria",
                    "Morocco",
                    "China",
                    "Azerbaijan",
                    "Tajikistan",
                    "Macedonia",
                    "Jordan",
                    "Nigeria",
                    "Kyrgyzstan",
                    "Bosnia and Herzegovina",
                    "Mongolia",
                    "Vietnam",
                    "Indonesia",
                    "Bhutan",
                    "Somalia",
                    "Cameroon",
                    "Bulgaria",
                    "Nepal",
                    "Venezuela",
                    "Gabon",
                    "Palestinian Territories",
                    "South Africa",
                    "Iran",
                    "Ivory Coast",
                    "Ghana",
                    "Senegal",
                    "Laos",
                    "Tunisia",
                    "Albania",
                    "Sierra Leone",
                    "Congo (Brazzaville)",
                    "Bangladesh",
                    "Sri Lanka",
                    "Iraq",
                    "Mali",
                    "Namibia",
                    "Cambodia",
                    "Burkina Faso",
                    "Egypt",
                    "Mozambique",
                    "Kenya",
                    "Zambia",
                    "Mauritania",
                    "Ethiopia",
                    "Georgia",
                    "Armenia",
                    "Myanmar",
                    "Chad",
                    "Congo (Kinshasa)",
                    "India",
                    "Niger",
                    "Uganda",
                    "Benin",
                    "Sudan",
                    "Ukraine",
                    "Togo",
                    "Guinea",
                    "Lesotho",
                    "Angola",
                    "Madagascar",
                    "Zimbabwe",
                    "Afghanistan",
                    "Botswana",
                    "Malawi",
                    "Haiti",
                    "Liberia",
                    "Syria",
                    "Rwanda",
                    "Yemen",
                    "Tanzania",
                    "South Sudan",
                    "Central African Republic",
                    "Burundi"
                  ],
                  "locations": [
                    "Finland",
                    "Norway",
                    "Denmark",
                    "Iceland",
                    "Switzerland",
                    "Netherlands",
                    "Canada",
                    "New Zealand",
                    "Sweden",
                    "Australia",
                    "United Kingdom",
                    "Austria",
                    "Costa Rica",
                    "Ireland",
                    "Germany",
                    "Belgium",
                    "Luxembourg",
                    "United States",
                    "Israel",
                    "United Arab Emirates",
                    "Czech Republic",
                    "Malta",
                    "France",
                    "Mexico",
                    "Chile",
                    "Taiwan",
                    "Panama",
                    "Brazil",
                    "Argentina",
                    "Guatemala",
                    "Uruguay",
                    "Qatar",
                    "Saudi Arabia",
                    "Singapore",
                    "Malaysia",
                    "Spain",
                    "Colombia",
                    "Trinidad & Tobago",
                    "Slovakia",
                    "El Salvador",
                    "Nicaragua",
                    "Poland",
                    "Bahrain",
                    "Uzbekistan",
                    "Kuwait",
                    "Thailand",
                    "Italy",
                    "Ecuador",
                    "Belize",
                    "Lithuania",
                    "Slovenia",
                    "Romania",
                    "Latvia",
                    "Japan",
                    "Mauritius",
                    "Jamaica",
                    "South Korea",
                    "Northern Cyprus",
                    "Russia",
                    "Kazakhstan",
                    "Cyprus",
                    "Bolivia",
                    "Estonia",
                    "Paraguay",
                    "Peru",
                    "Kosovo",
                    "Moldova",
                    "Turkmenistan",
                    "Hungary",
                    "Libya",
                    "Philippines",
                    "Honduras",
                    "Belarus",
                    "Turkey",
                    "Pakistan",
                    "Hong Kong",
                    "Portugal",
                    "Serbia",
                    "Greece",
                    "Lebanon",
                    "Montenegro",
                    "Croatia",
                    "Dominican Republic",
                    "Algeria",
                    "Morocco",
                    "China",
                    "Azerbaijan",
                    "Tajikistan",
                    "Macedonia",
                    "Jordan",
                    "Nigeria",
                    "Kyrgyzstan",
                    "Bosnia and Herzegovina",
                    "Mongolia",
                    "Vietnam",
                    "Indonesia",
                    "Bhutan",
                    "Somalia",
                    "Cameroon",
                    "Bulgaria",
                    "Nepal",
                    "Venezuela",
                    "Gabon",
                    "Palestinian Territories",
                    "South Africa",
                    "Iran",
                    "Ivory Coast",
                    "Ghana",
                    "Senegal",
                    "Laos",
                    "Tunisia",
                    "Albania",
                    "Sierra Leone",
                    "Congo (Brazzaville)",
                    "Bangladesh",
                    "Sri Lanka",
                    "Iraq",
                    "Mali",
                    "Namibia",
                    "Cambodia",
                    "Burkina Faso",
                    "Egypt",
                    "Mozambique",
                    "Kenya",
                    "Zambia",
                    "Mauritania",
                    "Ethiopia",
                    "Georgia",
                    "Armenia",
                    "Myanmar",
                    "Chad",
                    "Congo (Kinshasa)",
                    "India",
                    "Niger",
                    "Uganda",
                    "Benin",
                    "Sudan",
                    "Ukraine",
                    "Togo",
                    "Guinea",
                    "Lesotho",
                    "Angola",
                    "Madagascar",
                    "Zimbabwe",
                    "Afghanistan",
                    "Botswana",
                    "Malawi",
                    "Haiti",
                    "Liberia",
                    "Syria",
                    "Rwanda",
                    "Yemen",
                    "Tanzania",
                    "South Sudan",
                    "Central African Republic",
                    "Burundi"
                  ],
                  "hoverlabel": {
                    "namelength": 0
                  },
                  "type": "choropleth",
                  "z": [
                    7.632000000000001,
                    7.593999999999999,
                    7.555,
                    7.495,
                    7.487,
                    7.441,
                    7.327999999999999,
                    7.324,
                    7.314,
                    7.272,
                    7.19,
                    7.138999999999999,
                    7.072,
                    6.977,
                    6.965,
                    6.9270000000000005,
                    6.91,
                    6.886,
                    6.814,
                    6.774,
                    6.711,
                    6.627000000000001,
                    6.489,
                    6.4879999999999995,
                    6.476,
                    6.441,
                    6.43,
                    6.419,
                    6.388,
                    6.382000000000001,
                    6.379,
                    6.374,
                    6.371,
                    6.343,
                    6.322,
                    6.31,
                    6.26,
                    6.192,
                    6.172999999999999,
                    6.167000000000001,
                    6.141,
                    6.122999999999999,
                    6.105,
                    6.096,
                    6.082999999999999,
                    6.072,
                    6,
                    5.973,
                    5.956,
                    5.952000000000001,
                    5.9479999999999995,
                    5.945,
                    5.933,
                    5.915,
                    5.891,
                    5.89,
                    5.875,
                    5.835,
                    5.81,
                    5.79,
                    5.7620000000000005,
                    5.752000000000001,
                    5.739,
                    5.681,
                    5.662999999999999,
                    5.662000000000001,
                    5.64,
                    5.636,
                    5.62,
                    5.566,
                    5.524,
                    5.504,
                    5.483,
                    5.483,
                    5.472,
                    5.43,
                    5.41,
                    5.398,
                    5.358,
                    5.358,
                    5.347,
                    5.321000000000001,
                    5.3020000000000005,
                    5.295,
                    5.254,
                    5.246,
                    5.2010000000000005,
                    5.199,
                    5.185,
                    5.1610000000000005,
                    5.155,
                    5.131,
                    5.129,
                    5.125,
                    5.103,
                    5.093,
                    5.082,
                    4.982,
                    4.975,
                    4.933,
                    4.88,
                    4.806,
                    4.758,
                    4.743,
                    4.724,
                    4.707,
                    4.671,
                    4.657,
                    4.631,
                    4.623,
                    4.592,
                    4.586,
                    4.571000000000001,
                    4.559,
                    4.5,
                    4.471,
                    4.456,
                    4.447,
                    4.441,
                    4.433,
                    4.4239999999999995,
                    4.419,
                    4.417,
                    4.41,
                    4.377,
                    4.356,
                    4.35,
                    4.34,
                    4.321000000000001,
                    4.308,
                    4.301,
                    4.245,
                    4.19,
                    4.166,
                    4.1610000000000005,
                    4.141,
                    4.138999999999999,
                    4.103,
                    3.9989999999999997,
                    3.964,
                    3.8080000000000003,
                    3.795,
                    3.7739999999999996,
                    3.6919999999999997,
                    3.6319999999999997,
                    3.59,
                    3.5869999999999997,
                    3.582,
                    3.495,
                    3.4619999999999997,
                    3.408,
                    3.355,
                    3.303,
                    3.2539999999999996,
                    3.083,
                    2.905
                  ],
                  "locationmode": "country names",
                  "coloraxis": "coloraxis"
                }
              ],
              "config": {
                "plotlyServerURL": "https://plot.ly"
              },
              "layout": {
                "title": {
                  "text": "Happiness Index 2018"
                },
                "geo": {
                  "domain": {
                    "y": [
                      0,
                      1
                    ],
                    "x": [
                      0,
                      1
                    ]
                  },
                  "center": {}
                },
                "legend": {
                  "tracegroupgap": 0
                },
                "template": {
                  "layout": {
                    "shapedefaults": {
                      "line": {
                        "color": "#2a3f5f"
                      }
                    },
                    "polar": {
                      "radialaxis": {
                        "ticks": "",
                        "gridcolor": "white",
                        "linecolor": "white"
                      },
                      "bgcolor": "#E5ECF6",
                      "angularaxis": {
                        "ticks": "",
                        "gridcolor": "white",
                        "linecolor": "white"
                      }
                    },
                    "colorway": [
                      "#636efa",
                      "#EF553B",
                      "#00cc96",
                      "#ab63fa",
                      "#FFA15A",
                      "#19d3f3",
                      "#FF6692",
                      "#B6E880",
                      "#FF97FF",
                      "#FECB52"
                    ],
                    "xaxis": {
                      "automargin": true,
                      "title": {
                        "standoff": 15
                      },
                      "zerolinewidth": 2,
                      "ticks": "",
                      "zerolinecolor": "white",
                      "gridcolor": "white",
                      "linecolor": "white"
                    },
                    "colorscale": {
                      "diverging": [
                        [
                          0,
                          "#8e0152"
                        ],
                        [
                          0.1,
                          "#c51b7d"
                        ],
                        [
                          0.2,
                          "#de77ae"
                        ],
                        [
                          0.3,
                          "#f1b6da"
                        ],
                        [
                          0.4,
                          "#fde0ef"
                        ],
                        [
                          0.5,
                          "#f7f7f7"
                        ],
                        [
                          0.6,
                          "#e6f5d0"
                        ],
                        [
                          0.7,
                          "#b8e186"
                        ],
                        [
                          0.8,
                          "#7fbc41"
                        ],
                        [
                          0.9,
                          "#4d9221"
                        ],
                        [
                          1,
                          "#276419"
                        ]
                      ],
                      "sequential": [
                        [
                          0,
                          "#0d0887"
                        ],
                        [
                          0.1111111111111111,
                          "#46039f"
                        ],
                        [
                          0.2222222222222222,
                          "#7201a8"
                        ],
                        [
                          0.3333333333333333,
                          "#9c179e"
                        ],
                        [
                          0.4444444444444444,
                          "#bd3786"
                        ],
                        [
                          0.5555555555555556,
                          "#d8576b"
                        ],
                        [
                          0.6666666666666666,
                          "#ed7953"
                        ],
                        [
                          0.7777777777777778,
                          "#fb9f3a"
                        ],
                        [
                          0.8888888888888888,
                          "#fdca26"
                        ],
                        [
                          1,
                          "#f0f921"
                        ]
                      ],
                      "sequentialminus": [
                        [
                          0,
                          "#0d0887"
                        ],
                        [
                          0.1111111111111111,
                          "#46039f"
                        ],
                        [
                          0.2222222222222222,
                          "#7201a8"
                        ],
                        [
                          0.3333333333333333,
                          "#9c179e"
                        ],
                        [
                          0.4444444444444444,
                          "#bd3786"
                        ],
                        [
                          0.5555555555555556,
                          "#d8576b"
                        ],
                        [
                          0.6666666666666666,
                          "#ed7953"
                        ],
                        [
                          0.7777777777777778,
                          "#fb9f3a"
                        ],
                        [
                          0.8888888888888888,
                          "#fdca26"
                        ],
                        [
                          1,
                          "#f0f921"
                        ]
                      ]
                    },
                    "paper_bgcolor": "white",
                    "plot_bgcolor": "#E5ECF6",
                    "title": {
                      "x": 0.05
                    },
                    "scene": {
                      "zaxis": {
                        "backgroundcolor": "#E5ECF6",
                        "ticks": "",
                        "gridwidth": 2,
                        "showbackground": true,
                        "zerolinecolor": "white",
                        "gridcolor": "white",
                        "linecolor": "white"
                      },
                      "xaxis": {
                        "backgroundcolor": "#E5ECF6",
                        "ticks": "",
                        "gridwidth": 2,
                        "showbackground": true,
                        "zerolinecolor": "white",
                        "gridcolor": "white",
                        "linecolor": "white"
                      },
                      "yaxis": {
                        "backgroundcolor": "#E5ECF6",
                        "ticks": "",
                        "gridwidth": 2,
                        "showbackground": true,
                        "zerolinecolor": "white",
                        "gridcolor": "white",
                        "linecolor": "white"
                      }
                    },
                    "yaxis": {
                      "automargin": true,
                      "title": {
                        "standoff": 15
                      },
                      "zerolinewidth": 2,
                      "ticks": "",
                      "zerolinecolor": "white",
                      "gridcolor": "white",
                      "linecolor": "white"
                    },
                    "annotationdefaults": {
                      "arrowwidth": 1,
                      "arrowhead": 0,
                      "arrowcolor": "#2a3f5f"
                    },
                    "hoverlabel": {
                      "align": "left"
                    },
                    "ternary": {
                      "bgcolor": "#E5ECF6",
                      "baxis": {
                        "ticks": "",
                        "gridcolor": "white",
                        "linecolor": "white"
                      },
                      "caxis": {
                        "ticks": "",
                        "gridcolor": "white",
                        "linecolor": "white"
                      },
                      "aaxis": {
                        "ticks": "",
                        "gridcolor": "white",
                        "linecolor": "white"
                      }
                    },
                    "mapbox": {
                      "style": "light"
                    },
                    "hovermode": "closest",
                    "font": {
                      "color": "#2a3f5f"
                    },
                    "geo": {
                      "showland": true,
                      "landcolor": "#E5ECF6",
                      "showlakes": true,
                      "bgcolor": "white",
                      "subunitcolor": "white",
                      "lakecolor": "white"
                    },
                    "coloraxis": {
                      "colorbar": {
                        "outlinewidth": 0,
                        "ticks": ""
                      }
                    }
                  },
                  "data": {
                    "mesh3d": [
                      {
                        "colorbar": {
                          "outlinewidth": 0,
                          "ticks": ""
                        },
                        "type": "mesh3d"
                      }
                    ],
                    "scattercarpet": [
                      {
                        "marker": {
                          "colorbar": {
                            "outlinewidth": 0,
                            "ticks": ""
                          }
                        },
                        "type": "scattercarpet"
                      }
                    ],
                    "pie": [
                      {
                        "automargin": true,
                        "type": "pie"
                      }
                    ],
                    "surface": [
                      {
                        "colorbar": {
                          "outlinewidth": 0,
                          "ticks": ""
                        },
                        "type": "surface",
                        "colorscale": [
                          [
                            0,
                            "#0d0887"
                          ],
                          [
                            0.1111111111111111,
                            "#46039f"
                          ],
                          [
                            0.2222222222222222,
                            "#7201a8"
                          ],
                          [
                            0.3333333333333333,
                            "#9c179e"
                          ],
                          [
                            0.4444444444444444,
                            "#bd3786"
                          ],
                          [
                            0.5555555555555556,
                            "#d8576b"
                          ],
                          [
                            0.6666666666666666,
                            "#ed7953"
                          ],
                          [
                            0.7777777777777778,
                            "#fb9f3a"
                          ],
                          [
                            0.8888888888888888,
                            "#fdca26"
                          ],
                          [
                            1,
                            "#f0f921"
                          ]
                        ]
                      }
                    ],
                    "table": [
                      {
                        "header": {
                          "line": {
                            "color": "white"
                          },
                          "fill": {
                            "color": "#C8D4E3"
                          }
                        },
                        "cells": {
                          "line": {
                            "color": "white"
                          },
                          "fill": {
                            "color": "#EBF0F8"
                          }
                        },
                        "type": "table"
                      }
                    ],
                    "scatterpolargl": [
                      {
                        "marker": {
                          "colorbar": {
                            "outlinewidth": 0,
                            "ticks": ""
                          }
                        },
                        "type": "scatterpolargl"
                      }
                    ],
                    "contour": [
                      {
                        "colorbar": {
                          "outlinewidth": 0,
                          "ticks": ""
                        },
                        "type": "contour",
                        "colorscale": [
                          [
                            0,
                            "#0d0887"
                          ],
                          [
                            0.1111111111111111,
                            "#46039f"
                          ],
                          [
                            0.2222222222222222,
                            "#7201a8"
                          ],
                          [
                            0.3333333333333333,
                            "#9c179e"
                          ],
                          [
                            0.4444444444444444,
                            "#bd3786"
                          ],
                          [
                            0.5555555555555556,
                            "#d8576b"
                          ],
                          [
                            0.6666666666666666,
                            "#ed7953"
                          ],
                          [
                            0.7777777777777778,
                            "#fb9f3a"
                          ],
                          [
                            0.8888888888888888,
                            "#fdca26"
                          ],
                          [
                            1,
                            "#f0f921"
                          ]
                        ]
                      }
                    ],
                    "carpet": [
                      {
                        "type": "carpet",
                        "baxis": {
                          "minorgridcolor": "white",
                          "gridcolor": "white",
                          "linecolor": "white",
                          "endlinecolor": "#2a3f5f",
                          "startlinecolor": "#2a3f5f"
                        },
                        "aaxis": {
                          "minorgridcolor": "white",
                          "gridcolor": "white",
                          "linecolor": "white",
                          "endlinecolor": "#2a3f5f",
                          "startlinecolor": "#2a3f5f"
                        }
                      }
                    ],
                    "contourcarpet": [
                      {
                        "colorbar": {
                          "outlinewidth": 0,
                          "ticks": ""
                        },
                        "type": "contourcarpet"
                      }
                    ],
                    "heatmap": [
                      {
                        "colorbar": {
                          "outlinewidth": 0,
                          "ticks": ""
                        },
                        "type": "heatmap",
                        "colorscale": [
                          [
                            0,
                            "#0d0887"
                          ],
                          [
                            0.1111111111111111,
                            "#46039f"
                          ],
                          [
                            0.2222222222222222,
                            "#7201a8"
                          ],
                          [
                            0.3333333333333333,
                            "#9c179e"
                          ],
                          [
                            0.4444444444444444,
                            "#bd3786"
                          ],
                          [
                            0.5555555555555556,
                            "#d8576b"
                          ],
                          [
                            0.6666666666666666,
                            "#ed7953"
                          ],
                          [
                            0.7777777777777778,
                            "#fb9f3a"
                          ],
                          [
                            0.8888888888888888,
                            "#fdca26"
                          ],
                          [
                            1,
                            "#f0f921"
                          ]
                        ]
                      }
                    ],
                    "scattermapbox": [
                      {
                        "marker": {
                          "colorbar": {
                            "outlinewidth": 0,
                            "ticks": ""
                          }
                        },
                        "type": "scattermapbox"
                      }
                    ],
                    "scatter3d": [
                      {
                        "marker": {
                          "colorbar": {
                            "outlinewidth": 0,
                            "ticks": ""
                          }
                        },
                        "line": {
                          "colorbar": {
                            "outlinewidth": 0,
                            "ticks": ""
                          }
                        },
                        "type": "scatter3d"
                      }
                    ],
                    "scattergl": [
                      {
                        "marker": {
                          "colorbar": {
                            "outlinewidth": 0,
                            "ticks": ""
                          }
                        },
                        "type": "scattergl"
                      }
                    ],
                    "scatterternary": [
                      {
                        "marker": {
                          "colorbar": {
                            "outlinewidth": 0,
                            "ticks": ""
                          }
                        },
                        "type": "scatterternary"
                      }
                    ],
                    "histogram": [
                      {
                        "marker": {
                          "colorbar": {
                            "outlinewidth": 0,
                            "ticks": ""
                          }
                        },
                        "type": "histogram"
                      }
                    ],
                    "heatmapgl": [
                      {
                        "colorbar": {
                          "outlinewidth": 0,
                          "ticks": ""
                        },
                        "type": "heatmapgl",
                        "colorscale": [
                          [
                            0,
                            "#0d0887"
                          ],
                          [
                            0.1111111111111111,
                            "#46039f"
                          ],
                          [
                            0.2222222222222222,
                            "#7201a8"
                          ],
                          [
                            0.3333333333333333,
                            "#9c179e"
                          ],
                          [
                            0.4444444444444444,
                            "#bd3786"
                          ],
                          [
                            0.5555555555555556,
                            "#d8576b"
                          ],
                          [
                            0.6666666666666666,
                            "#ed7953"
                          ],
                          [
                            0.7777777777777778,
                            "#fb9f3a"
                          ],
                          [
                            0.8888888888888888,
                            "#fdca26"
                          ],
                          [
                            1,
                            "#f0f921"
                          ]
                        ]
                      }
                    ],
                    "scatterpolar": [
                      {
                        "marker": {
                          "colorbar": {
                            "outlinewidth": 0,
                            "ticks": ""
                          }
                        },
                        "type": "scatterpolar"
                      }
                    ],
                    "histogram2d": [
                      {
                        "colorbar": {
                          "outlinewidth": 0,
                          "ticks": ""
                        },
                        "type": "histogram2d",
                        "colorscale": [
                          [
                            0,
                            "#0d0887"
                          ],
                          [
                            0.1111111111111111,
                            "#46039f"
                          ],
                          [
                            0.2222222222222222,
                            "#7201a8"
                          ],
                          [
                            0.3333333333333333,
                            "#9c179e"
                          ],
                          [
                            0.4444444444444444,
                            "#bd3786"
                          ],
                          [
                            0.5555555555555556,
                            "#d8576b"
                          ],
                          [
                            0.6666666666666666,
                            "#ed7953"
                          ],
                          [
                            0.7777777777777778,
                            "#fb9f3a"
                          ],
                          [
                            0.8888888888888888,
                            "#fdca26"
                          ],
                          [
                            1,
                            "#f0f921"
                          ]
                        ]
                      }
                    ],
                    "scattergeo": [
                      {
                        "marker": {
                          "colorbar": {
                            "outlinewidth": 0,
                            "ticks": ""
                          }
                        },
                        "type": "scattergeo"
                      }
                    ],
                    "bar": [
                      {
                        "marker": {
                          "line": {
                            "color": "#E5ECF6",
                            "width": 0.5
                          }
                        },
                        "type": "bar",
                        "error_x": {
                          "color": "#2a3f5f"
                        },
                        "error_y": {
                          "color": "#2a3f5f"
                        }
                      }
                    ],
                    "choropleth": [
                      {
                        "colorbar": {
                          "outlinewidth": 0,
                          "ticks": ""
                        },
                        "type": "choropleth"
                      }
                    ],
                    "parcoords": [
                      {
                        "line": {
                          "colorbar": {
                            "outlinewidth": 0,
                            "ticks": ""
                          }
                        },
                        "type": "parcoords"
                      }
                    ],
                    "barpolar": [
                      {
                        "marker": {
                          "line": {
                            "color": "#E5ECF6",
                            "width": 0.5
                          }
                        },
                        "type": "barpolar"
                      }
                    ],
                    "histogram2dcontour": [
                      {
                        "colorbar": {
                          "outlinewidth": 0,
                          "ticks": ""
                        },
                        "type": "histogram2dcontour",
                        "colorscale": [
                          [
                            0,
                            "#0d0887"
                          ],
                          [
                            0.1111111111111111,
                            "#46039f"
                          ],
                          [
                            0.2222222222222222,
                            "#7201a8"
                          ],
                          [
                            0.3333333333333333,
                            "#9c179e"
                          ],
                          [
                            0.4444444444444444,
                            "#bd3786"
                          ],
                          [
                            0.5555555555555556,
                            "#d8576b"
                          ],
                          [
                            0.6666666666666666,
                            "#ed7953"
                          ],
                          [
                            0.7777777777777778,
                            "#fb9f3a"
                          ],
                          [
                            0.8888888888888888,
                            "#fdca26"
                          ],
                          [
                            1,
                            "#f0f921"
                          ]
                        ]
                      }
                    ],
                    "scatter": [
                      {
                        "marker": {
                          "colorbar": {
                            "outlinewidth": 0,
                            "ticks": ""
                          }
                        },
                        "type": "scatter"
                      }
                    ]
                  }
                },
                "coloraxis": {
                  "colorbar": {
                    "title": {
                      "text": "Score"
                    }
                  },
                  "colorscale": [
                    [
                      0,
                      "#0d0887"
                    ],
                    [
                      0.1111111111111111,
                      "#46039f"
                    ],
                    [
                      0.2222222222222222,
                      "#7201a8"
                    ],
                    [
                      0.3333333333333333,
                      "#9c179e"
                    ],
                    [
                      0.4444444444444444,
                      "#bd3786"
                    ],
                    [
                      0.5555555555555556,
                      "#d8576b"
                    ],
                    [
                      0.6666666666666666,
                      "#ed7953"
                    ],
                    [
                      0.7777777777777778,
                      "#fb9f3a"
                    ],
                    [
                      0.8888888888888888,
                      "#fdca26"
                    ],
                    [
                      1,
                      "#f0f921"
                    ]
                  ]
                }
              }
            }
          },
          "metadata": {
            "tags": []
          }
        }
      ]
    },
    {
      "cell_type": "code",
      "metadata": {
        "colab": {
          "base_uri": "https://localhost:8080/",
          "height": 268
        },
        "id": "RvkiGcIwH24S",
        "outputId": "8999784c-27c0-4c73-d09e-e10d54ff47f3"
      },
      "source": [
        "## compare data of previous years \r\n",
        "topPrevCountries=[]\r\n",
        "[topPrevCountries.append(i) for i in data15.Country[0:11]]\r\n",
        "[topPrevCountries.append(i) for i in data16.Country[0:11]]\r\n",
        "[topPrevCountries.append(i) for i in data17.Country[0:11]]\r\n",
        "\r\n",
        "dfTest = pd.DataFrame({'freq': topPrevCountries})\r\n",
        "dfTest.groupby('freq', as_index=False).size().plot(kind='bar')\r\n",
        "plt.show()\r\n",
        "\r\n",
        "# This shows us that the top 10 countries were constant 15 - 17"
      ],
      "execution_count": null,
      "outputs": [
        {
          "output_type": "display_data",
          "data": {
            "image/png": "[encoded data removed]",
            "text/plain": [
              "<Figure size 432x288 with 1 Axes>"
            ]
          },
          "metadata": {
            "tags": [],
            "needs_background": "light"
          }
        }
      ]
    },
    {
      "cell_type": "code",
      "metadata": {
        "colab": {
          "base_uri": "https://localhost:8080/",
          "height": 519
        },
        "id": "-BmzyVp0H27d",
        "outputId": "eacbb136-b2dd-4b3b-f09c-0f177b73d072"
      },
      "source": [
        "[topPrevCountries.append(i) for i in happiness_report_18['Country or region'][0:11]]\r\n",
        "\r\n",
        "dfTest1 = pd.DataFrame({'freq': topPrevCountries})\r\n",
        "dfTest1.groupby('freq', as_index=False).size().plot(kind='bar')\r\n",
        "plt.show()\r\n",
        "\r\n",
        "[topPrevCountries.append(i) for i in data20['Country name'][0:11]]\r\n",
        "\r\n",
        "dfTest2 = pd.DataFrame({'freq': topPrevCountries})\r\n",
        "dfTest2.groupby('freq', as_index=False).size().plot(kind='bar')\r\n",
        "plt.show()"
      ],
      "execution_count": null,
      "outputs": [
        {
          "output_type": "display_data",
          "data": {
            "image/png": "[encoded data removed]",
            "text/plain": [
              "<Figure size 432x288 with 1 Axes>"
            ]
          },
          "metadata": {
            "tags": [],
            "needs_background": "light"
          }
        },
        {
          "output_type": "display_data",
          "data": {
            "image/png": "[encoded data removed]",
            "text/plain": [
              "<Figure size 432x288 with 1 Axes>"
            ]
          },
          "metadata": {
            "tags": [],
            "needs_background": "light"
          }
        }
      ]
    },
    {
      "cell_type": "code",
      "metadata": {
        "colab": {
          "base_uri": "https://localhost:8080/",
          "height": 318
        },
        "id": "KkwKQF7_ITIM",
        "outputId": "4a54c240-abc2-46e7-98a1-46a9bb07a693"
      },
      "source": [
        "# in 2017=> unitedKindom was 19 place\r\n",
        "# in 2018=> unitedKindom was 10 place \r\n",
        "\r\n",
        "temp1=data17[data17.Country=='United Kingdom']\r\n",
        "temp2=happiness_report_18[happiness_report_18['Country or region']=='United Kingdom']\r\n",
        "temp2.rename(columns={'Country or region':'Country','Freedom to make life choices':'Freedom', },inplace=True)\r\n",
        "temp1.rename(columns={'Economy..GDP.per.Capita.':'GDP per capita','Health..Life.Expectancy.':'Healthy life expectancy'},inplace=True)\r\n",
        "\r\n",
        "DF = pd.concat([temp1,temp2])\r\n",
        "DF"
      ],
      "execution_count": null,
      "outputs": [
        {
          "output_type": "stream",
          "text": [
            "/usr/local/lib/python3.6/dist-packages/pandas/core/frame.py:4308: SettingWithCopyWarning:\n",
            "\n",
            "\n",
            "A value is trying to be set on a copy of a slice from a DataFrame\n",
            "\n",
            "See the caveats in the documentation: https://pandas.pydata.org/pandas-docs/stable/user_guide/indexing.html#returning-a-view-versus-a-copy\n",
            "\n"
          ],
          "name": "stderr"
        },
        {
          "output_type": "execute_result",
          "data": {
            "text/html": [
              "<div>\n",
              "<style scoped>\n",
              "    .dataframe tbody tr th:only-of-type {\n",
              "        vertical-align: middle;\n",
              "    }\n",
              "\n",
              "    .dataframe tbody tr th {\n",
              "        vertical-align: top;\n",
              "    }\n",
              "\n",
              "    .dataframe thead th {\n",
              "        text-align: right;\n",
              "    }\n",
              "</style>\n",
              "<table border=\"1\" class=\"dataframe\">\n",
              "  <thead>\n",
              "    <tr style=\"text-align: right;\">\n",
              "      <th></th>\n",
              "      <th>Country</th>\n",
              "      <th>Happiness.Rank</th>\n",
              "      <th>Happiness.Score</th>\n",
              "      <th>Whisker.high</th>\n",
              "      <th>Whisker.low</th>\n",
              "      <th>GDP per capita</th>\n",
              "      <th>Family</th>\n",
              "      <th>Healthy life expectancy</th>\n",
              "      <th>Freedom</th>\n",
              "      <th>Generosity</th>\n",
              "      <th>Trust..Government.Corruption.</th>\n",
              "      <th>Dystopia.Residual</th>\n",
              "      <th>Overall rank</th>\n",
              "      <th>Score</th>\n",
              "      <th>Social support</th>\n",
              "      <th>Perceptions of corruption</th>\n",
              "    </tr>\n",
              "  </thead>\n",
              "  <tbody>\n",
              "    <tr>\n",
              "      <th>18</th>\n",
              "      <td>United Kingdom</td>\n",
              "      <td>19.0</td>\n",
              "      <td>6.714</td>\n",
              "      <td>6.783792</td>\n",
              "      <td>6.644209</td>\n",
              "      <td>1.441634</td>\n",
              "      <td>1.49646</td>\n",
              "      <td>0.805336</td>\n",
              "      <td>0.50819</td>\n",
              "      <td>0.492774</td>\n",
              "      <td>0.265428</td>\n",
              "      <td>1.704144</td>\n",
              "      <td>NaN</td>\n",
              "      <td>NaN</td>\n",
              "      <td>NaN</td>\n",
              "      <td>NaN</td>\n",
              "    </tr>\n",
              "    <tr>\n",
              "      <th>10</th>\n",
              "      <td>United Kingdom</td>\n",
              "      <td>NaN</td>\n",
              "      <td>NaN</td>\n",
              "      <td>NaN</td>\n",
              "      <td>NaN</td>\n",
              "      <td>1.244000</td>\n",
              "      <td>NaN</td>\n",
              "      <td>0.888000</td>\n",
              "      <td>0.46400</td>\n",
              "      <td>0.262000</td>\n",
              "      <td>NaN</td>\n",
              "      <td>NaN</td>\n",
              "      <td>11.0</td>\n",
              "      <td>7.19</td>\n",
              "      <td>1.433</td>\n",
              "      <td>0.082</td>\n",
              "    </tr>\n",
              "  </tbody>\n",
              "</table>\n",
              "</div>"
            ],
            "text/plain": [
              "           Country  Happiness.Rank  ...  Social support  Perceptions of corruption\n",
              "18  United Kingdom            19.0  ...             NaN                        NaN\n",
              "10  United Kingdom             NaN  ...           1.433                      0.082\n",
              "\n",
              "[2 rows x 16 columns]"
            ]
          },
          "metadata": {
            "tags": []
          },
          "execution_count": 82
        }
      ]
    },
    {
      "cell_type": "code",
      "metadata": {
        "colab": {
          "base_uri": "https://localhost:8080/",
          "height": 297
        },
        "id": "Tq3nbjm-0oVH",
        "outputId": "c700e93c-5a94-4c7b-dfbe-c3470158ced2"
      },
      "source": [
        "data15_new.describe()\r\n"
      ],
      "execution_count": null,
      "outputs": [
        {
          "output_type": "execute_result",
          "data": {
            "text/html": [
              "<div>\n",
              "<style scoped>\n",
              "    .dataframe tbody tr th:only-of-type {\n",
              "        vertical-align: middle;\n",
              "    }\n",
              "\n",
              "    .dataframe tbody tr th {\n",
              "        vertical-align: top;\n",
              "    }\n",
              "\n",
              "    .dataframe thead th {\n",
              "        text-align: right;\n",
              "    }\n",
              "</style>\n",
              "<table border=\"1\" class=\"dataframe\">\n",
              "  <thead>\n",
              "    <tr style=\"text-align: right;\">\n",
              "      <th></th>\n",
              "      <th>Happiness Score</th>\n",
              "      <th>Economy (GDP per Capita)</th>\n",
              "      <th>Family</th>\n",
              "      <th>Health (Life Expectancy)</th>\n",
              "      <th>Freedom</th>\n",
              "      <th>Trust (Government Corruption)</th>\n",
              "      <th>Generosity</th>\n",
              "    </tr>\n",
              "  </thead>\n",
              "  <tbody>\n",
              "    <tr>\n",
              "      <th>count</th>\n",
              "      <td>158.000000</td>\n",
              "      <td>158.000000</td>\n",
              "      <td>158.000000</td>\n",
              "      <td>158.000000</td>\n",
              "      <td>158.000000</td>\n",
              "      <td>158.000000</td>\n",
              "      <td>158.000000</td>\n",
              "    </tr>\n",
              "    <tr>\n",
              "      <th>mean</th>\n",
              "      <td>5.375734</td>\n",
              "      <td>0.846137</td>\n",
              "      <td>0.991046</td>\n",
              "      <td>0.630259</td>\n",
              "      <td>0.428615</td>\n",
              "      <td>0.143422</td>\n",
              "      <td>0.237296</td>\n",
              "    </tr>\n",
              "    <tr>\n",
              "      <th>std</th>\n",
              "      <td>1.145010</td>\n",
              "      <td>0.403121</td>\n",
              "      <td>0.272369</td>\n",
              "      <td>0.247078</td>\n",
              "      <td>0.150693</td>\n",
              "      <td>0.120034</td>\n",
              "      <td>0.126685</td>\n",
              "    </tr>\n",
              "    <tr>\n",
              "      <th>min</th>\n",
              "      <td>2.839000</td>\n",
              "      <td>0.000000</td>\n",
              "      <td>0.000000</td>\n",
              "      <td>0.000000</td>\n",
              "      <td>0.000000</td>\n",
              "      <td>0.000000</td>\n",
              "      <td>0.000000</td>\n",
              "    </tr>\n",
              "    <tr>\n",
              "      <th>25%</th>\n",
              "      <td>4.526000</td>\n",
              "      <td>0.545808</td>\n",
              "      <td>0.856823</td>\n",
              "      <td>0.439185</td>\n",
              "      <td>0.328330</td>\n",
              "      <td>0.061675</td>\n",
              "      <td>0.150553</td>\n",
              "    </tr>\n",
              "    <tr>\n",
              "      <th>50%</th>\n",
              "      <td>5.232500</td>\n",
              "      <td>0.910245</td>\n",
              "      <td>1.029510</td>\n",
              "      <td>0.696705</td>\n",
              "      <td>0.435515</td>\n",
              "      <td>0.107220</td>\n",
              "      <td>0.216130</td>\n",
              "    </tr>\n",
              "    <tr>\n",
              "      <th>75%</th>\n",
              "      <td>6.243750</td>\n",
              "      <td>1.158448</td>\n",
              "      <td>1.214405</td>\n",
              "      <td>0.811013</td>\n",
              "      <td>0.549092</td>\n",
              "      <td>0.180255</td>\n",
              "      <td>0.309883</td>\n",
              "    </tr>\n",
              "    <tr>\n",
              "      <th>max</th>\n",
              "      <td>7.587000</td>\n",
              "      <td>1.690420</td>\n",
              "      <td>1.402230</td>\n",
              "      <td>1.025250</td>\n",
              "      <td>0.669730</td>\n",
              "      <td>0.551910</td>\n",
              "      <td>0.795880</td>\n",
              "    </tr>\n",
              "  </tbody>\n",
              "</table>\n",
              "</div>"
            ],
            "text/plain": [
              "       Happiness Score  ...  Generosity\n",
              "count       158.000000  ...  158.000000\n",
              "mean          5.375734  ...    0.237296\n",
              "std           1.145010  ...    0.126685\n",
              "min           2.839000  ...    0.000000\n",
              "25%           4.526000  ...    0.150553\n",
              "50%           5.232500  ...    0.216130\n",
              "75%           6.243750  ...    0.309883\n",
              "max           7.587000  ...    0.795880\n",
              "\n",
              "[8 rows x 7 columns]"
            ]
          },
          "metadata": {
            "tags": []
          },
          "execution_count": 46
        }
      ]
    },
    {
      "cell_type": "code",
      "metadata": {
        "id": "9FynCFAV9BAA"
      },
      "source": [
        "mean = []\r\n",
        "maximum = []\r\n",
        "minimum = []\r\n",
        "index = []\r\n",
        "data = [data15_new, data16_new, data17_new, data18_new, data19_new]\r\n",
        "for i in range (len(data)):\r\n",
        "  x = data[i].describe()\r\n",
        "  mean.append(x['Happiness Score'].iloc[1])\r\n",
        "  maximum.append(x['Happiness Score'].iloc[7])\r\n",
        "  minimum.append(x['Happiness Score'].iloc[3])\r\n",
        "  index.append(i+15)\r\n",
        "\r\n",
        "\r\n"
      ],
      "execution_count": null,
      "outputs": []
    },
    {
      "cell_type": "code",
      "metadata": {
        "colab": {
          "base_uri": "https://localhost:8080/",
          "height": 459
        },
        "id": "fRo-wKXMBTXG",
        "outputId": "904d6731-8b60-4751-8b07-6bad8f51d0bc"
      },
      "source": [
        "f = plt.figure(figsize=(20,7))\r\n",
        "f.add_subplot(131)\r\n",
        "plt.plot(index , mean)\r\n",
        "plt.xlabel(\"year\")\r\n",
        "plt.ylabel(\"mean of happiness score\")\r\n",
        "\r\n",
        "f.add_subplot(132)\r\n",
        "plt.plot(index , minimum)\r\n",
        "plt.xlabel(\"year\")\r\n",
        "plt.ylabel(\"min of happiness score\")\r\n",
        "\r\n",
        "\r\n",
        "f.add_subplot(133)\r\n",
        "plt.plot(index , maximum)\r\n",
        "plt.xlabel(\"year\")\r\n",
        "plt.ylabel(\"max of happiness score\")"
      ],
      "execution_count": null,
      "outputs": [
        {
          "output_type": "execute_result",
          "data": {
            "text/plain": [
              "Text(0, 0.5, 'max of happiness score')"
            ]
          },
          "metadata": {
            "tags": []
          },
          "execution_count": 68
        },
        {
          "output_type": "display_data",
          "data": {
            "image/png": "[encoded data removed]",
            "text/plain": [
              "<Figure size 1440x504 with 3 Axes>"
            ]
          },
          "metadata": {
            "tags": [],
            "needs_background": "light"
          }
        }
      ]
    },
    {
      "cell_type": "code",
      "metadata": {
        "colab": {
          "base_uri": "https://localhost:8080/",
          "height": 623
        },
        "id": "mfHWyqpM4Twa",
        "outputId": "0fa28560-1cd1-470e-ee37-5657265eb9f5"
      },
      "source": [
        "\n",
        "f = plt.figure(figsize=(20,10))\n",
        "f.add_subplot(231)\n",
        "data15_new['Happiness Score'].plot.hist(bins=30)\n",
        "plt.xlabel(\"frequancy\")\n",
        "plt.ylabel(\"happiness score 2015\")\n",
        "\n",
        "f.add_subplot(232)\n",
        "data16_new['Happiness Score'].plot.hist(bins=30)\n",
        "plt.xlabel(\"frequancy\")\n",
        "plt.ylabel(\"happiness score 2016\")\n",
        "\n",
        "f.add_subplot(233)\n",
        "data17_new['Happiness Score'].plot.hist(bins=30)\n",
        "plt.xlabel(\"frequancy\")\n",
        "plt.ylabel(\"happiness score 2017\")\n",
        "\n",
        "f.add_subplot(234)\n",
        "data18_new['Happiness Score'].plot.hist(bins=30)\n",
        "plt.xlabel(\"frequancy\")\n",
        "plt.ylabel(\"happiness score 2018\")\n",
        "\n",
        "f.add_subplot(235)\n",
        "data19_new['Happiness Score'].plot.hist(bins=30)\n",
        "plt.xlabel(\"frequancy\")\n",
        "plt.ylabel(\"happiness score 2019\")\n",
        "\n",
        "f.add_subplot(236)\n",
        "data20['Ladder score'].plot.hist(bins=30)\n",
        "plt.xlabel(\"frequancy\")\n",
        "plt.ylabel(\"happiness score 2019\")\n"
      ],
      "execution_count": null,
      "outputs": [
        {
          "output_type": "execute_result",
          "data": {
            "text/plain": [
              "Text(0, 0.5, 'happiness score 2019')"
            ]
          },
          "metadata": {
            "tags": []
          },
          "execution_count": 170
        },
        {
          "output_type": "display_data",
          "data": {
            "image/png": "[encoded data removed]",
            "text/plain": [
              "<Figure size 1440x720 with 6 Axes>"
            ]
          },
          "metadata": {
            "tags": [],
            "needs_background": "light"
          }
        }
      ]
    },
    {
      "cell_type": "code",
      "metadata": {
        "colab": {
          "base_uri": "https://localhost:8080/",
          "height": 383
        },
        "id": "KvkdeDsjnvjk",
        "outputId": "1dea90a8-74f3-4f00-e2f7-9fe1a3fbfb37"
      },
      "source": [
        "x = sns.boxplot(data=happiness_report_18[['Healthy life expectancy','Freedom to make life choices','Generosity','Perceptions of corruption']])\r\n",
        "\r\n",
        "plt.setp(x.get_xticklabels(), rotation=45)\r\n",
        "\r\n"
      ],
      "execution_count": null,
      "outputs": [
        {
          "output_type": "execute_result",
          "data": {
            "text/plain": [
              "[None, None, None, None, None, None, None, None]"
            ]
          },
          "metadata": {
            "tags": []
          },
          "execution_count": 78
        },
        {
          "output_type": "display_data",
          "data": {
            "image/png": "[encoded data removed]",
            "text/plain": [
              "<Figure size 432x288 with 1 Axes>"
            ]
          },
          "metadata": {
            "tags": [],
            "needs_background": "light"
          }
        }
      ]
    },
    {
      "cell_type": "code",
      "metadata": {
        "colab": {
          "base_uri": "https://localhost:8080/",
          "height": 506
        },
        "id": "Xhqymg9Q5cvT",
        "outputId": "4fc0fb8e-7a87-461a-bb26-e7f58de0345a"
      },
      "source": [
        "df_temp = happiness_report_18.set_index('Country or region')\n",
        "sns.set(style='darkgrid')\n",
        "plt.figure(figsize=(12,6))\n",
        "sns.barplot(x='Country or region', y='Score', data=happiness_report_18, \n",
        "            order=df_temp['Score'].sort_values(ascending=False).index[:50], color='orange')\n",
        "sns.barplot(x='Country or region', y='Freedom to make life choices', data=happiness_report_18, \n",
        "            order=df_temp['Score'].sort_values(ascending=False).index[:50], color='red')\n",
        "plt.xticks(rotation=90)\n",
        "plt.show()"
      ],
      "execution_count": null,
      "outputs": [
        {
          "output_type": "display_data",
          "data": {
            "image/png": "[encoded data removed]",
            "text/plain": [
              "<Figure size 864x432 with 1 Axes>"
            ]
          },
          "metadata": {
            "tags": []
          }
        }
      ]
    },
    {
      "cell_type": "code",
      "metadata": {
        "colab": {
          "base_uri": "https://localhost:8080/",
          "height": 768
        },
        "id": "NyoZjaVW6zPx",
        "outputId": "afe6e2c5-3653-409f-c12b-00f3f865f9a2"
      },
      "source": [
        "plt.figure(figsize=(10,10))\n",
        "sns.heatmap(happiness_report_18.corr(), annot=True)"
      ],
      "execution_count": null,
      "outputs": [
        {
          "output_type": "execute_result",
          "data": {
            "text/plain": [
              "<matplotlib.axes._subplots.AxesSubplot at 0x7fc1844561d0>"
            ]
          },
          "metadata": {
            "tags": []
          },
          "execution_count": 20
        },
        {
          "output_type": "display_data",
          "data": {
            "image/png": "[encoded data removed]",
            "text/plain": [
              "<Figure size 720x720 with 2 Axes>"
            ]
          },
          "metadata": {
            "tags": []
          }
        }
      ]
    },
    {
      "cell_type": "markdown",
      "metadata": {
        "id": "ORJAvt1hJD5g"
      },
      "source": [
        "## Happiness score prediction "
      ]
    },
    {
      "cell_type": "code",
      "metadata": {
        "id": "7v4-br1NF2eS",
        "colab": {
          "base_uri": "https://localhost:8080/",
          "height": 400
        },
        "outputId": "bef2cf28-f7b9-443a-a3fc-be62a2349152"
      },
      "source": [
        "# plot between each feature and the score of happiness \r\n",
        "\r\n",
        "sns.pairplot(data18, x_vars=[ 'GDP per capita',\r\n",
        "       'Social support', 'Healthy life expectancy',\r\n",
        "       'Freedom to make life choices', 'Generosity',\r\n",
        "       'Perceptions of corruption'], y_vars='Score', size=7, aspect=0.7)"
      ],
      "execution_count": null,
      "outputs": [
        {
          "output_type": "stream",
          "text": [
            "/usr/local/lib/python3.6/dist-packages/seaborn/axisgrid.py:1969: UserWarning:\n",
            "\n",
            "The `size` parameter has been renamed to `height`; please update your code.\n",
            "\n"
          ],
          "name": "stderr"
        },
        {
          "output_type": "execute_result",
          "data": {
            "text/plain": [
              "<seaborn.axisgrid.PairGrid at 0x7f89b309df98>"
            ]
          },
          "metadata": {
            "tags": []
          },
          "execution_count": 85
        },
        {
          "output_type": "display_data",
          "data": {
            "image/png": "[encoded data removed]",
            "text/plain": [
              "<Figure size 2116.8x504 with 6 Axes>"
            ]
          },
          "metadata": {
            "tags": [],
            "needs_background": "light"
          }
        }
      ]
    },
    {
      "cell_type": "code",
      "metadata": {
        "id": "o3KALn3bGezn",
        "colab": {
          "base_uri": "https://localhost:8080/",
          "height": 400
        },
        "outputId": "86ef4465-3997-40c3-fb5f-78ed01e2e580"
      },
      "source": [
        "sns.pairplot(data18, x_vars=[ 'GDP per capita',\r\n",
        "       'Social support', 'Healthy life expectancy',\r\n",
        "       'Freedom to make life choices', 'Generosity',\r\n",
        "       'Perceptions of corruption'], y_vars='Score', size=7, aspect=0.7, kind='reg')"
      ],
      "execution_count": null,
      "outputs": [
        {
          "output_type": "stream",
          "text": [
            "/usr/local/lib/python3.6/dist-packages/seaborn/axisgrid.py:1969: UserWarning:\n",
            "\n",
            "The `size` parameter has been renamed to `height`; please update your code.\n",
            "\n"
          ],
          "name": "stderr"
        },
        {
          "output_type": "execute_result",
          "data": {
            "text/plain": [
              "<seaborn.axisgrid.PairGrid at 0x7f89bbc8dd68>"
            ]
          },
          "metadata": {
            "tags": []
          },
          "execution_count": 84
        },
        {
          "output_type": "display_data",
          "data": {
            "image/png": "[encoded data removed]",
            "text/plain": [
              "<Figure size 2116.8x504 with 6 Axes>"
            ]
          },
          "metadata": {
            "tags": [],
            "needs_background": "light"
          }
        }
      ]
    },
    {
      "cell_type": "markdown",
      "metadata": {
        "id": "r0zlcpq7KIap"
      },
      "source": [
        "### Regression on 2018 data"
      ]
    },
    {
      "cell_type": "code",
      "metadata": {
        "id": "8vsNaAX8LXou"
      },
      "source": [
        "X = data18[[ 'GDP per capita',\r\n",
        "       'Social support', 'Healthy life expectancy',\r\n",
        "       'Freedom to make life choices', 'Generosity',\r\n",
        "       'Perceptions of corruption']]\r\n",
        "\r\n",
        "Y = data18['Score']\r\n",
        "\r\n",
        "X_train, X_test, Y_train, Y_test = train_test_split(X, Y, test_size = 0.2) "
      ],
      "execution_count": null,
      "outputs": []
    },
    {
      "cell_type": "code",
      "metadata": {
        "id": "cYf8rt598-t6",
        "colab": {
          "base_uri": "https://localhost:8080/"
        },
        "outputId": "3a16c077-5dd7-4c40-8e36-a652001aa64b"
      },
      "source": [
        "#LinearRegression \r\n",
        "\r\n",
        "\r\n",
        "linear_model = LinearRegression()\r\n",
        "linear_model.fit(X_train, Y_train)\r\n",
        "\r\n",
        "print('Intercept: \\n', linear_model.intercept_)\r\n",
        "print('Coefficients: \\n', linear_model.coef_)\r\n"
      ],
      "execution_count": null,
      "outputs": [
        {
          "output_type": "stream",
          "text": [
            "Intercept: \n",
            " 1.8983328248672717\n",
            "Coefficients: \n",
            " [1.1949576  1.02714159 0.7135035  1.35573461 0.33732637 0.73463732]\n"
          ],
          "name": "stdout"
        }
      ]
    },
    {
      "cell_type": "code",
      "metadata": {
        "id": "ddxUmrOSDEA2"
      },
      "source": [
        "y_pred = linear_model.predict(X_test) "
      ],
      "execution_count": null,
      "outputs": []
    },
    {
      "cell_type": "code",
      "metadata": {
        "id": "Rh7N4uIZFBEW",
        "colab": {
          "base_uri": "https://localhost:8080/"
        },
        "outputId": "11729f4d-0f10-4a51-b3f8-a01d614b2a71"
      },
      "source": [
        "# calculate MAE, MSE, RMSE\r\n",
        "\r\n",
        "\r\n",
        "print(\"MAE: \",metrics.mean_absolute_error(Y_test, y_pred))\r\n",
        "print(\"MSE: \",metrics.mean_squared_error(Y_test, y_pred))\r\n",
        "print(\"RMSE: \",np.sqrt(metrics.mean_squared_error(Y_test, y_pred)))"
      ],
      "execution_count": null,
      "outputs": [
        {
          "output_type": "stream",
          "text": [
            "MAE:  0.3677699338313385\n",
            "MSE:  0.25191634399020923\n",
            "RMSE:  0.5019126856239133\n"
          ],
          "name": "stdout"
        }
      ]
    },
    {
      "cell_type": "markdown",
      "metadata": {
        "id": "zogaWy61KP-f"
      },
      "source": [
        "### PCA on 2018 data"
      ]
    },
    {
      "cell_type": "code",
      "metadata": {
        "colab": {
          "base_uri": "https://localhost:8080/",
          "height": 279
        },
        "id": "VRgwgUf_KVW-",
        "outputId": "3065108f-5511-4bbc-adaf-2951d19158b9"
      },
      "source": [
        "pca = PCA().fit(data18[[ 'GDP per capita',\r\n",
        "       'Social support', 'Healthy life expectancy',\r\n",
        "       'Freedom to make life choices', 'Generosity',\r\n",
        "       'Perceptions of corruption']])\r\n",
        "\r\n",
        "plt.plot(np.cumsum(pca.explained_variance_ratio_))\r\n",
        "plt.xlabel('number of components')\r\n",
        "plt.ylabel('cumulative explained variance');\r\n",
        "\r\n",
        "\r\n",
        "# the graph shows that 5 components describe all the data"
      ],
      "execution_count": null,
      "outputs": [
        {
          "output_type": "display_data",
          "data": {
            "image/png": "[encoded data removed]",
            "text/plain": [
              "<Figure size 432x288 with 1 Axes>"
            ]
          },
          "metadata": {
            "tags": [],
            "needs_background": "light"
          }
        }
      ]
    },
    {
      "cell_type": "code",
      "metadata": {
        "id": "GlaS4Z3FHVld",
        "colab": {
          "base_uri": "https://localhost:8080/",
          "height": 204
        },
        "outputId": "6bb834c6-0500-4948-fcef-5511093c56b4"
      },
      "source": [
        "#LinearRegression after PCA\r\n",
        "\r\n",
        "pca = PCA(n_components=5)\r\n",
        "\r\n",
        "principalComponents = pca.fit_transform(data18[[ 'GDP per capita',\r\n",
        "       'Social support', 'Healthy life expectancy',\r\n",
        "       'Freedom to make life choices', 'Generosity',\r\n",
        "       'Perceptions of corruption']])\r\n",
        "\r\n",
        "principal_Df= pd.DataFrame(data = principalComponents)\r\n",
        "\r\n",
        "principal_Df.head()"
      ],
      "execution_count": null,
      "outputs": [
        {
          "output_type": "execute_result",
          "data": {
            "text/html": [
              "<div>\n",
              "<style scoped>\n",
              "    .dataframe tbody tr th:only-of-type {\n",
              "        vertical-align: middle;\n",
              "    }\n",
              "\n",
              "    .dataframe tbody tr th {\n",
              "        vertical-align: top;\n",
              "    }\n",
              "\n",
              "    .dataframe thead th {\n",
              "        text-align: right;\n",
              "    }\n",
              "</style>\n",
              "<table border=\"1\" class=\"dataframe\">\n",
              "  <thead>\n",
              "    <tr style=\"text-align: right;\">\n",
              "      <th></th>\n",
              "      <th>0</th>\n",
              "      <th>1</th>\n",
              "      <th>2</th>\n",
              "      <th>3</th>\n",
              "      <th>4</th>\n",
              "    </tr>\n",
              "  </thead>\n",
              "  <tbody>\n",
              "    <tr>\n",
              "      <th>0</th>\n",
              "      <td>-0.661616</td>\n",
              "      <td>-0.123111</td>\n",
              "      <td>-0.183424</td>\n",
              "      <td>-0.002276</td>\n",
              "      <td>0.052646</td>\n",
              "    </tr>\n",
              "    <tr>\n",
              "      <th>1</th>\n",
              "      <td>-0.759738</td>\n",
              "      <td>-0.048702</td>\n",
              "      <td>-0.196622</td>\n",
              "      <td>0.077601</td>\n",
              "      <td>0.097512</td>\n",
              "    </tr>\n",
              "    <tr>\n",
              "      <th>2</th>\n",
              "      <td>-0.693412</td>\n",
              "      <td>-0.105879</td>\n",
              "      <td>-0.217159</td>\n",
              "      <td>0.023536</td>\n",
              "      <td>0.123164</td>\n",
              "    </tr>\n",
              "    <tr>\n",
              "      <th>3</th>\n",
              "      <td>-0.716636</td>\n",
              "      <td>-0.145386</td>\n",
              "      <td>-0.126773</td>\n",
              "      <td>-0.018257</td>\n",
              "      <td>0.074185</td>\n",
              "    </tr>\n",
              "    <tr>\n",
              "      <th>4</th>\n",
              "      <td>-0.743240</td>\n",
              "      <td>-0.020226</td>\n",
              "      <td>-0.187843</td>\n",
              "      <td>-0.001904</td>\n",
              "      <td>0.085300</td>\n",
              "    </tr>\n",
              "  </tbody>\n",
              "</table>\n",
              "</div>"
            ],
            "text/plain": [
              "          0         1         2         3         4\n",
              "0 -0.661616 -0.123111 -0.183424 -0.002276  0.052646\n",
              "1 -0.759738 -0.048702 -0.196622  0.077601  0.097512\n",
              "2 -0.693412 -0.105879 -0.217159  0.023536  0.123164\n",
              "3 -0.716636 -0.145386 -0.126773 -0.018257  0.074185\n",
              "4 -0.743240 -0.020226 -0.187843 -0.001904  0.085300"
            ]
          },
          "metadata": {
            "tags": []
          },
          "execution_count": 112
        }
      ]
    },
    {
      "cell_type": "code",
      "metadata": {
        "id": "LqxXy0wSILqd",
        "colab": {
          "base_uri": "https://localhost:8080/"
        },
        "outputId": "aa14c497-092e-4aeb-d9bb-fd259d3b6109"
      },
      "source": [
        "x = principal_Df\r\n",
        "\r\n",
        "y = data18['Score']\r\n",
        "\r\n",
        "X_train, X_test, Y_train, Y_test = train_test_split(x, y, test_size = 0.2) \r\n",
        "linear_model = LinearRegression()\r\n",
        "linear_model.fit(X_train, Y_train)\r\n",
        "\r\n",
        "print('Intercept: \\n', linear_model.intercept_)\r\n",
        "print('Coefficients: \\n', linear_model.coef_)\r\n"
      ],
      "execution_count": null,
      "outputs": [
        {
          "output_type": "stream",
          "text": [
            "Intercept: \n",
            " 5.383425109434959\n",
            "Coefficients: \n",
            " [-1.88711804 -0.59852862 -1.47091872 -0.27085081  0.14543616]\n"
          ],
          "name": "stdout"
        }
      ]
    },
    {
      "cell_type": "code",
      "metadata": {
        "id": "0PX9w6E6Lz0E"
      },
      "source": [
        "y_pred = linear_model.predict(X_test) "
      ],
      "execution_count": null,
      "outputs": []
    },
    {
      "cell_type": "code",
      "metadata": {
        "id": "Kv6VAT7RL74O",
        "colab": {
          "base_uri": "https://localhost:8080/"
        },
        "outputId": "a30dc628-7418-414f-a5a7-be7de2fde457"
      },
      "source": [
        "# calculate MAE, MSE, RMSE\r\n",
        "\r\n",
        "\r\n",
        "print(\"MAE: \",metrics.mean_absolute_error(Y_test, y_pred))\r\n",
        "print(\"MSE: \",metrics.mean_squared_error(Y_test, y_pred))\r\n",
        "print(\"RMSE: \",np.sqrt(metrics.mean_squared_error(Y_test, y_pred)))"
      ],
      "execution_count": null,
      "outputs": [
        {
          "output_type": "stream",
          "text": [
            "MAE:  0.403390271233293\n",
            "MSE:  0.30465340738981517\n",
            "RMSE:  0.5519541714579347\n"
          ],
          "name": "stdout"
        }
      ]
    },
    {
      "cell_type": "markdown",
      "metadata": {
        "id": "bIJNSr_8LN17"
      },
      "source": [
        "### Regression on all the data to predict 2020 sores "
      ]
    },
    {
      "cell_type": "code",
      "metadata": {
        "id": "Vwqncb7Rnvjx"
      },
      "source": [
        "X = all_reports[[ 'Economy (GDP per Capita)', 'Family',\r\n",
        "       'Health (Life Expectancy)', 'Freedom', 'Trust (Government Corruption)',\r\n",
        "       'Generosity']]\r\n",
        "\r\n",
        "Y = all_reports['Happiness Score']\r\n"
      ],
      "execution_count": null,
      "outputs": []
    },
    {
      "cell_type": "code",
      "metadata": {
        "colab": {
          "base_uri": "https://localhost:8080/"
        },
        "id": "9V1OrumqLvQ5",
        "outputId": "bccc2ab1-6529-447f-da6e-9f3e8fc064af"
      },
      "source": [
        "#LinearRegression \r\n",
        "\r\n",
        "\r\n",
        "linear_model = LinearRegression()\r\n",
        "linear_model.fit(X, Y)\r\n",
        "\r\n",
        "print('Intercept: \\n', linear_model.intercept_)\r\n",
        "print('Coefficients: \\n', linear_model.coef_)\r\n"
      ],
      "execution_count": null,
      "outputs": [
        {
          "output_type": "stream",
          "text": [
            "Intercept: \n",
            " 2.1775373541929692\n",
            "Coefficients: \n",
            " [1.14712408 0.64089294 1.00368924 1.47930053 0.85265212 0.59378111]\n"
          ],
          "name": "stdout"
        }
      ]
    },
    {
      "cell_type": "code",
      "metadata": {
        "colab": {
          "base_uri": "https://localhost:8080/"
        },
        "id": "ekHhBwUGL6j7",
        "outputId": "27876acf-8e32-45f4-bacd-d794300bd012"
      },
      "source": [
        "y_pred_train = linear_model.predict(X) \r\n",
        "\r\n",
        "print(\"MAE: \",metrics.mean_absolute_error(Y, y_pred_train))\r\n",
        "print(\"MSE: \",metrics.mean_squared_error(Y, y_pred_train))\r\n",
        "print(\"RMSE: \",np.sqrt(metrics.mean_squared_error(Y, y_pred_train)))"
      ],
      "execution_count": null,
      "outputs": [
        {
          "output_type": "stream",
          "text": [
            "MAE:  0.42615010312513685\n",
            "MSE:  0.2995721073291361\n",
            "RMSE:  0.5473318073428002\n"
          ],
          "name": "stdout"
        }
      ]
    },
    {
      "cell_type": "code",
      "metadata": {
        "colab": {
          "base_uri": "https://localhost:8080/"
        },
        "id": "FJsub7q1MMSC",
        "outputId": "7cf9bf99-76d7-4855-8f66-11990a7f6270"
      },
      "source": [
        "score20 = linear_model.predict(data20_new[[ 'Economy (GDP per Capita)', 'Family',\r\n",
        "       'Health (Life Expectancy)', 'Freedom', 'Trust (Government Corruption)',\r\n",
        "       'Generosity']]) \r\n",
        "\r\n",
        "score20"
      ],
      "execution_count": null,
      "outputs": [
        {
          "output_type": "execute_result",
          "data": {
            "text/plain": [
              "array([7.05968332, 7.19645226, 7.19896173, 7.01321643, 7.31388168,\n",
              "       7.05248891, 7.10395204, 7.11114356, 6.89859624, 7.151523  ,\n",
              "       7.0366525 , 7.05319211, 6.82520551, 6.35005846, 6.24150737,\n",
              "       7.12239187, 6.78602594, 6.58639855, 6.18484504, 6.53349044,\n",
              "       6.73206104, 6.80658093, 6.62182256, 5.91285196, 6.31853327,\n",
              "       6.30201082, 6.31287756, 6.37685495, 5.59559536, 6.09622534,\n",
              "       7.48136376, 5.79710374, 6.54712223, 5.47443951, 5.60049039,\n",
              "       6.16218233, 6.02310843, 6.09533274, 5.94010079, 6.53159514,\n",
              "       5.98659966, 6.02935473, 6.22967835, 5.78851079, 6.19374798,\n",
              "       5.61271775, 5.85590142, 6.40770746, 6.1265415 , 6.01935925,\n",
              "       6.42190677, 5.57718976, 5.87185884, 6.14551395, 5.95349409,\n",
              "       5.48662956, 5.78294235, 5.74457252, 6.28749228, 5.67810054,\n",
              "       5.92430458, 6.4702058 , 5.66981057, 5.71819701, 5.40723674,\n",
              "       4.75630603, 5.86751889, 5.89983597, 5.42909708, 5.19042188,\n",
              "       5.25457417, 5.61054993, 5.7256201 , 5.42296761, 5.63925838,\n",
              "       6.35246892, 5.50213582, 6.82886075, 5.83649298, 5.63371818,\n",
              "       5.49117572, 6.16097425, 5.74695647, 5.74857757, 4.2297806 ,\n",
              "       3.97732205, 6.0753073 , 4.59228562, 5.73058664, 5.55294796,\n",
              "       4.80065814, 5.06214446, 5.55249805, 5.94664678, 5.90033043,\n",
              "       5.77452239, 4.96464526, 4.41718534, 5.20319264, 5.04591108,\n",
              "       4.57658128, 4.23528974, 3.93763956, 5.35128998, 5.40581832,\n",
              "       5.27814262, 5.2191629 , 5.16954072, 5.19684518, 5.05632605,\n",
              "       5.1403497 , 4.12951121, 4.37711339, 4.15360499, 4.534914  ,\n",
              "       5.25864652, 5.21011406, 5.4097758 , 5.40173869, 4.41965331,\n",
              "       4.90160673, 5.09738171, 5.20764018, 4.13996408, 4.79134472,\n",
              "       4.39582578, 3.64360191, 4.94350134, 4.39240648, 5.74262087,\n",
              "       3.82121505, 4.63443064, 5.53857095, 4.06343458, 3.84621164,\n",
              "       4.51190302, 3.95242965, 5.08539027, 3.89657126, 3.432083  ,\n",
              "       4.68210064, 3.95833552, 4.20817079, 5.06150867, 4.12758232,\n",
              "       4.29042584, 5.37330988, 4.79410901, 2.83244405, 4.9284655 ,\n",
              "       4.43085072, 3.38981215, 3.09929825])"
            ]
          },
          "metadata": {
            "tags": []
          },
          "execution_count": 158
        }
      ]
    },
    {
      "cell_type": "code",
      "metadata": {
        "colab": {
          "base_uri": "https://localhost:8080/",
          "height": 204
        },
        "id": "4lSNr-C4MkuS",
        "outputId": "af3794f9-f5bf-4747-dd45-a2da969548be"
      },
      "source": [
        "predicted20 = data20_new.copy()\r\n",
        "predicted20[\"Happiness score\"]=score20\r\n",
        "\r\n",
        "predicted20.head()"
      ],
      "execution_count": null,
      "outputs": [
        {
          "output_type": "execute_result",
          "data": {
            "text/html": [
              "<div>\n",
              "<style scoped>\n",
              "    .dataframe tbody tr th:only-of-type {\n",
              "        vertical-align: middle;\n",
              "    }\n",
              "\n",
              "    .dataframe tbody tr th {\n",
              "        vertical-align: top;\n",
              "    }\n",
              "\n",
              "    .dataframe thead th {\n",
              "        text-align: right;\n",
              "    }\n",
              "</style>\n",
              "<table border=\"1\" class=\"dataframe\">\n",
              "  <thead>\n",
              "    <tr style=\"text-align: right;\">\n",
              "      <th></th>\n",
              "      <th>Country</th>\n",
              "      <th>Economy (GDP per Capita)</th>\n",
              "      <th>Family</th>\n",
              "      <th>Health (Life Expectancy)</th>\n",
              "      <th>Freedom</th>\n",
              "      <th>Trust (Government Corruption)</th>\n",
              "      <th>Generosity</th>\n",
              "      <th>Happiness score</th>\n",
              "    </tr>\n",
              "  </thead>\n",
              "  <tbody>\n",
              "    <tr>\n",
              "      <th>0</th>\n",
              "      <td>Finland</td>\n",
              "      <td>1.285190</td>\n",
              "      <td>1.499526</td>\n",
              "      <td>0.961271</td>\n",
              "      <td>0.662317</td>\n",
              "      <td>0.477857</td>\n",
              "      <td>0.159670</td>\n",
              "      <td>7.059683</td>\n",
              "    </tr>\n",
              "    <tr>\n",
              "      <th>1</th>\n",
              "      <td>Denmark</td>\n",
              "      <td>1.326949</td>\n",
              "      <td>1.503449</td>\n",
              "      <td>0.979333</td>\n",
              "      <td>0.665040</td>\n",
              "      <td>0.495260</td>\n",
              "      <td>0.242793</td>\n",
              "      <td>7.196452</td>\n",
              "    </tr>\n",
              "    <tr>\n",
              "      <th>2</th>\n",
              "      <td>Switzerland</td>\n",
              "      <td>1.390774</td>\n",
              "      <td>1.472403</td>\n",
              "      <td>1.040533</td>\n",
              "      <td>0.628954</td>\n",
              "      <td>0.407946</td>\n",
              "      <td>0.269056</td>\n",
              "      <td>7.198962</td>\n",
              "    </tr>\n",
              "    <tr>\n",
              "      <th>3</th>\n",
              "      <td>Iceland</td>\n",
              "      <td>1.326502</td>\n",
              "      <td>1.547567</td>\n",
              "      <td>1.000843</td>\n",
              "      <td>0.661981</td>\n",
              "      <td>0.144541</td>\n",
              "      <td>0.362330</td>\n",
              "      <td>7.013216</td>\n",
              "    </tr>\n",
              "    <tr>\n",
              "      <th>4</th>\n",
              "      <td>Norway</td>\n",
              "      <td>1.424207</td>\n",
              "      <td>1.495173</td>\n",
              "      <td>1.008072</td>\n",
              "      <td>0.670201</td>\n",
              "      <td>0.434101</td>\n",
              "      <td>0.287985</td>\n",
              "      <td>7.313882</td>\n",
              "    </tr>\n",
              "  </tbody>\n",
              "</table>\n",
              "</div>"
            ],
            "text/plain": [
              "       Country  Economy (GDP per Capita)  ...  Generosity  Happiness score\n",
              "0      Finland                  1.285190  ...    0.159670         7.059683\n",
              "1      Denmark                  1.326949  ...    0.242793         7.196452\n",
              "2  Switzerland                  1.390774  ...    0.269056         7.198962\n",
              "3      Iceland                  1.326502  ...    0.362330         7.013216\n",
              "4       Norway                  1.424207  ...    0.287985         7.313882\n",
              "\n",
              "[5 rows x 8 columns]"
            ]
          },
          "metadata": {
            "tags": []
          },
          "execution_count": 159
        }
      ]
    },
    {
      "cell_type": "code",
      "metadata": {
        "colab": {
          "base_uri": "https://localhost:8080/",
          "height": 204
        },
        "id": "oas3xU2cQKrI",
        "outputId": "96e4cc10-69db-49d7-cc22-1ceec46185d7"
      },
      "source": [
        "predicted20 = predicted20.sort_values(by=\"Happiness score\", ascending=False)\r\n",
        "predicted20.head()"
      ],
      "execution_count": null,
      "outputs": [
        {
          "output_type": "execute_result",
          "data": {
            "text/html": [
              "<div>\n",
              "<style scoped>\n",
              "    .dataframe tbody tr th:only-of-type {\n",
              "        vertical-align: middle;\n",
              "    }\n",
              "\n",
              "    .dataframe tbody tr th {\n",
              "        vertical-align: top;\n",
              "    }\n",
              "\n",
              "    .dataframe thead th {\n",
              "        text-align: right;\n",
              "    }\n",
              "</style>\n",
              "<table border=\"1\" class=\"dataframe\">\n",
              "  <thead>\n",
              "    <tr style=\"text-align: right;\">\n",
              "      <th></th>\n",
              "      <th>Country</th>\n",
              "      <th>Economy (GDP per Capita)</th>\n",
              "      <th>Family</th>\n",
              "      <th>Health (Life Expectancy)</th>\n",
              "      <th>Freedom</th>\n",
              "      <th>Trust (Government Corruption)</th>\n",
              "      <th>Generosity</th>\n",
              "      <th>Happiness score</th>\n",
              "    </tr>\n",
              "  </thead>\n",
              "  <tbody>\n",
              "    <tr>\n",
              "      <th>30</th>\n",
              "      <td>Singapore</td>\n",
              "      <td>1.519580</td>\n",
              "      <td>1.395457</td>\n",
              "      <td>1.137814</td>\n",
              "      <td>0.635317</td>\n",
              "      <td>0.533162</td>\n",
              "      <td>0.218771</td>\n",
              "      <td>7.481364</td>\n",
              "    </tr>\n",
              "    <tr>\n",
              "      <th>4</th>\n",
              "      <td>Norway</td>\n",
              "      <td>1.424207</td>\n",
              "      <td>1.495173</td>\n",
              "      <td>1.008072</td>\n",
              "      <td>0.670201</td>\n",
              "      <td>0.434101</td>\n",
              "      <td>0.287985</td>\n",
              "      <td>7.313882</td>\n",
              "    </tr>\n",
              "    <tr>\n",
              "      <th>2</th>\n",
              "      <td>Switzerland</td>\n",
              "      <td>1.390774</td>\n",
              "      <td>1.472403</td>\n",
              "      <td>1.040533</td>\n",
              "      <td>0.628954</td>\n",
              "      <td>0.407946</td>\n",
              "      <td>0.269056</td>\n",
              "      <td>7.198962</td>\n",
              "    </tr>\n",
              "    <tr>\n",
              "      <th>1</th>\n",
              "      <td>Denmark</td>\n",
              "      <td>1.326949</td>\n",
              "      <td>1.503449</td>\n",
              "      <td>0.979333</td>\n",
              "      <td>0.665040</td>\n",
              "      <td>0.495260</td>\n",
              "      <td>0.242793</td>\n",
              "      <td>7.196452</td>\n",
              "    </tr>\n",
              "    <tr>\n",
              "      <th>9</th>\n",
              "      <td>Luxembourg</td>\n",
              "      <td>1.536676</td>\n",
              "      <td>1.387528</td>\n",
              "      <td>0.986443</td>\n",
              "      <td>0.610137</td>\n",
              "      <td>0.367041</td>\n",
              "      <td>0.195954</td>\n",
              "      <td>7.151523</td>\n",
              "    </tr>\n",
              "  </tbody>\n",
              "</table>\n",
              "</div>"
            ],
            "text/plain": [
              "        Country  Economy (GDP per Capita)  ...  Generosity  Happiness score\n",
              "30    Singapore                  1.519580  ...    0.218771         7.481364\n",
              "4        Norway                  1.424207  ...    0.287985         7.313882\n",
              "2   Switzerland                  1.390774  ...    0.269056         7.198962\n",
              "1       Denmark                  1.326949  ...    0.242793         7.196452\n",
              "9    Luxembourg                  1.536676  ...    0.195954         7.151523\n",
              "\n",
              "[5 rows x 8 columns]"
            ]
          },
          "metadata": {
            "tags": []
          },
          "execution_count": 160
        }
      ]
    },
    {
      "cell_type": "code",
      "metadata": {
        "colab": {
          "base_uri": "https://localhost:8080/",
          "height": 396
        },
        "id": "o1z8m5y2OwkV",
        "outputId": "5d85f3c7-ded4-441e-a890-b2bf874bd938"
      },
      "source": [
        "\r\n",
        "countries = predicted20['Country'].iloc[:15]\r\n",
        "scores =  predicted20[\"Happiness score\"].iloc[:15]\r\n",
        "\r\n",
        "plt.bar(countries,scores )\r\n",
        "plt.xticks(rotation = 50)"
      ],
      "execution_count": null,
      "outputs": [
        {
          "output_type": "execute_result",
          "data": {
            "text/plain": [
              "([0, 1, 2, 3, 4, 5, 6, 7, 8, 9, 10, 11, 12, 13, 14],\n",
              " <a list of 15 Text major ticklabel objects>)"
            ]
          },
          "metadata": {
            "tags": []
          },
          "execution_count": 161
        },
        {
          "output_type": "display_data",
          "data": {
            "image/png": "[encoded data removed]",
            "text/plain": [
              "<Figure size 432x288 with 1 Axes>"
            ]
          },
          "metadata": {
            "tags": [],
            "needs_background": "light"
          }
        }
      ]
    },
    {
      "cell_type": "code",
      "metadata": {
        "colab": {
          "base_uri": "https://localhost:8080/"
        },
        "id": "b-RkLpKjQBdG",
        "outputId": "13632e01-4129-4e3b-f6cc-04aa53baf03d"
      },
      "source": [
        "# evaluating 2020 data\r\n",
        "\r\n",
        "print(\"MAE: \",metrics.mean_absolute_error(score20, data20['Ladder score']))\r\n",
        "print(\"MSE: \",metrics.mean_squared_error(score20, data20['Ladder score']))\r\n",
        "print(\"RMSE: \",np.sqrt(metrics.mean_squared_error(score20, data20['Ladder score'])))"
      ],
      "execution_count": null,
      "outputs": [
        {
          "output_type": "stream",
          "text": [
            "MAE:  0.4411971611174471\n",
            "MSE:  0.3211340093005292\n",
            "RMSE:  0.5666868705912721\n"
          ],
          "name": "stdout"
        }
      ]
    },
    {
      "cell_type": "code",
      "metadata": {
        "colab": {
          "base_uri": "https://localhost:8080/",
          "height": 357
        },
        "id": "P1fVCNr_Rf4n",
        "outputId": "7435c016-7bfc-4a23-c83b-d044569b40a8"
      },
      "source": [
        "data = data20.sort_values(by='Ladder score', ascending=False)\r\n",
        "\r\n",
        "\r\n",
        "countries = data['Country name'].iloc[:15]\r\n",
        "scores =  data['Ladder score'].iloc[:15]\r\n",
        "\r\n",
        "plt.bar(countries,scores )\r\n",
        "plt.xticks(rotation = 50)"
      ],
      "execution_count": null,
      "outputs": [
        {
          "output_type": "execute_result",
          "data": {
            "text/plain": [
              "([0, 1, 2, 3, 4, 5, 6, 7, 8, 9, 10, 11, 12, 13, 14],\n",
              " <a list of 15 Text major ticklabel objects>)"
            ]
          },
          "metadata": {
            "tags": []
          },
          "execution_count": 163
        },
        {
          "output_type": "display_data",
          "data": {
            "image/png": "[encoded data removed]",
            "text/plain": [
              "<Figure size 432x288 with 1 Axes>"
            ]
          },
          "metadata": {
            "tags": [],
            "needs_background": "light"
          }
        }
      ]
    },
    {
      "cell_type": "markdown",
      "metadata": {
        "id": "gd5xBfDvrcQC"
      },
      "source": [
        "## The effect of covid 19 on the happiness score "
      ]
    },
    {
      "cell_type": "code",
      "metadata": {
        "colab": {
          "base_uri": "https://localhost:8080/"
        },
        "id": "fil_6k94SHNj",
        "outputId": "dfa55678-c36c-4512-c6df-3bd69b1a7dd2"
      },
      "source": [
        "covid_final['country']"
      ],
      "execution_count": 250,
      "outputs": [
        {
          "output_type": "execute_result",
          "data": {
            "text/plain": [
              "location\n",
              "Afghanistan    Afghanistan\n",
              "Albania            Albania\n",
              "Algeria            Algeria\n",
              "Andorra            Andorra\n",
              "Angola              Angola\n",
              "                  ...     \n",
              "Vietnam            Vietnam\n",
              "World                World\n",
              "Yemen                Yemen\n",
              "Zambia              Zambia\n",
              "Zimbabwe          Zimbabwe\n",
              "Name: country, Length: 192, dtype: object"
            ]
          },
          "metadata": {
            "tags": []
          },
          "execution_count": 250
        }
      ]
    },
    {
      "cell_type": "code",
      "metadata": {
        "id": "cBpQZYzw9dG0"
      },
      "source": [
        "covid_final = covid_final.drop(labels=[\"World\"])"
      ],
      "execution_count": 274,
      "outputs": []
    },
    {
      "cell_type": "code",
      "metadata": {
        "colab": {
          "base_uri": "https://localhost:8080/",
          "height": 534
        },
        "id": "tVzkQgon4rF0",
        "outputId": "81534be8-e8b0-4043-d425-6d9b01569791"
      },
      "source": [
        "params = {'legend.fontsize': 'xx-large',\n",
        "          'figure.figsize': (40, 15),\n",
        "         'axes.labelsize': 'xx-large',\n",
        "         'axes.titlesize':'xx-large',\n",
        "         'xtick.labelsize':'xx-large',\n",
        "         'ytick.labelsize':'xx-large',\n",
        "          }\n",
        "\n",
        "plt.xticks(rotation=90, fontsize=10)\n",
        "plt.rcParams.update(params)\n",
        "plt.plot(covid_final['country'], covid_final['total_cases'])\n"
      ],
      "execution_count": 275,
      "outputs": [
        {
          "output_type": "execute_result",
          "data": {
            "text/plain": [
              "[<matplotlib.lines.Line2D at 0x7f89b0818630>]"
            ]
          },
          "metadata": {
            "tags": []
          },
          "execution_count": 275
        },
        {
          "output_type": "display_data",
          "data": {
            "image/png": "[encoded data removed]",
            "text/plain": [
              "<Figure size 2880x1080 with 1 Axes>"
            ]
          },
          "metadata": {
            "tags": [],
            "needs_background": "light"
          }
        }
      ]
    },
    {
      "cell_type": "code",
      "metadata": {
        "id": "Znbx9Mjr41yI"
      },
      "source": [
        "sorted_covid = covid_final.sort_values(by=\"total_cases\")\n",
        "least_ten = sorted_covid.iloc[0:10,:]"
      ],
      "execution_count": 276,
      "outputs": []
    },
    {
      "cell_type": "code",
      "metadata": {
        "colab": {
          "base_uri": "https://localhost:8080/",
          "height": 632
        },
        "id": "3sVwfrP29pfa",
        "outputId": "8ed6c24f-7274-4178-dc18-abb821340ba7"
      },
      "source": [
        "params = {'legend.fontsize': 'xx-large',\n",
        "          'figure.figsize': (5, 2),\n",
        "         'axes.labelsize': 'xx-large',\n",
        "         'axes.titlesize':'xx-large',\n",
        "         'xtick.labelsize':'xx-large',\n",
        "         'ytick.labelsize':'xx-large',\n",
        "          }\n",
        "\n",
        "plt.title(\"Least ten\")\n",
        "plt.xticks(rotation=45, fontsize=15)\n",
        "plt.rcParams.update(params)\n",
        "plt.bar(least_ten['country'], least_ten['total_cases'])"
      ],
      "execution_count": 287,
      "outputs": [
        {
          "output_type": "execute_result",
          "data": {
            "text/plain": [
              "<BarContainer object of 10 artists>"
            ]
          },
          "metadata": {
            "tags": []
          },
          "execution_count": 287
        },
        {
          "output_type": "display_data",
          "data": {
            "image/png": "[encoded data removed]",
            "text/plain": [
              "<Figure size 720x576 with 1 Axes>"
            ]
          },
          "metadata": {
            "tags": [],
            "needs_background": "light"
          }
        }
      ]
    },
    {
      "cell_type": "code",
      "metadata": {
        "id": "5_lmj87R7b3E"
      },
      "source": [
        "top_ten = sorted_covid.iloc[-10:,:]"
      ],
      "execution_count": 283,
      "outputs": []
    },
    {
      "cell_type": "code",
      "metadata": {
        "colab": {
          "base_uri": "https://localhost:8080/",
          "height": 606
        },
        "id": "d2-0nw6v7wrL",
        "outputId": "10239c44-bf3d-439f-ffaf-dc0426daf22b"
      },
      "source": [
        "params = {'legend.fontsize': 'xx-large',\n",
        "          'figure.figsize': (10, 8),\n",
        "         'axes.labelsize': 'xx-large',\n",
        "         'axes.titlesize':'xx-large',\n",
        "         'xtick.labelsize':'xx-large',\n",
        "         'ytick.labelsize':'xx-large',\n",
        "          }\n",
        "\n",
        "plt.title(\"Top ten\")\n",
        "plt.xticks(rotation=45, fontsize=15)\n",
        "plt.rcParams.update(params)\n",
        "plt.bar(top_ten['country'], least_ten['total_cases'])"
      ],
      "execution_count": 289,
      "outputs": [
        {
          "output_type": "execute_result",
          "data": {
            "text/plain": [
              "<BarContainer object of 10 artists>"
            ]
          },
          "metadata": {
            "tags": []
          },
          "execution_count": 289
        },
        {
          "output_type": "display_data",
          "data": {
            "image/png": "[encoded data removed]",
            "text/plain": [
              "<Figure size 720x576 with 1 Axes>"
            ]
          },
          "metadata": {
            "tags": [],
            "needs_background": "light"
          }
        }
      ]
    },
    {
      "cell_type": "code",
      "metadata": {
        "id": "WWwIDWkH9FTl"
      },
      "source": [
        ""
      ],
      "execution_count": null,
      "outputs": []
    }
  ]
}